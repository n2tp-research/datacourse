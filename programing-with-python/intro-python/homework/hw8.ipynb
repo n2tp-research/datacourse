{
 "cells": [
  {
   "cell_type": "markdown",
   "id": "d6fef537-38b2-47b1-968f-066db80e8fdf",
   "metadata": {},
   "source": [
    "## Question 1: Operation-inator\n",
    "\n",
    "Dr. Doofenshmirtz is making a secret evil device that creates functions that do basic arithmetic operations using lambda functions. The operation-inator takes in an operation_string and returns a function that does that specific operation. The strings map to the functions like so:\n",
    "\n",
    "- \"self\" -> function that returns the input\n",
    "- \"add one\" -> function that adds one to the input\n",
    "- \"multiply together\" -> Takes in two inputs and returns them multiplied\n",
    "- \"zero to self\" -> takes in a positive integer and returns a list that counts up by ones from zero (inclusive) to the input (exclusive)\n",
    "\n",
    "Help the good doctor implement his operation-inator by filling in the blanks with lambda functions.\n",
    "\n",
    "See the doctests for more details."
   ]
  },
  {
   "cell_type": "code",
   "execution_count": null,
   "id": "e087fe03-9aa8-4e98-99f4-21a8b1ba8ea8",
   "metadata": {},
   "outputs": [],
   "source": [
    "def operation_inator(operation_string):\n",
    "    \"\"\"\n",
    "    >>> identity = operation_inator('self')\n",
    "    >>> identity(5)\n",
    "    5\n",
    "    >>> identity(6)\n",
    "    6\n",
    "    >>> add_one = operation_inator('add one')\n",
    "    >>> add_one(2)\n",
    "    3\n",
    "    >>> add_one(3)\n",
    "    4\n",
    "    >>> mul_together = operation_inator('multiply together')\n",
    "    >>> mul_together(0, 1)\n",
    "    0\n",
    "    >>> mul_together(3, 2)\n",
    "    6\n",
    "    >>> zero_to_self = operation_inator('zero to self')\n",
    "    >>> zero_to_self(3)\n",
    "    [0, 1, 2]\n",
    "    >>> zero_to_self(1)\n",
    "    [0]\n",
    "    \"\"\"\n",
    "    \"*** YOUR CODE HERE ***\""
   ]
  },
  {
   "cell_type": "markdown",
   "id": "adb9abf5-c260-40f9-b2e8-0b178f282bf9",
   "metadata": {},
   "source": [
    "## Question 2: Higher Order Lambdas\r\n",
    "\r\n",
    "Return a lambda function that takes in a multiplier (the multiplier is a number) and returns a lambda function that will take in another number and will return the new input multiplied by the multiplier."
   ]
  },
  {
   "cell_type": "code",
   "execution_count": null,
   "id": "fd8205d2-de51-4117-8ca2-9022faac60df",
   "metadata": {},
   "outputs": [],
   "source": [
    "def higher_order_lambdas():\n",
    "    \"\"\"\n",
    "    Return a lambda function that takes in a multiplier and returns a lambda function that given an input will \n",
    "    return the input multiplied by the multiplier\n",
    "    >>> hol = higher_order_lambdas()\n",
    "    >>> doubles = hol(2)\n",
    "    >>> doubles(3)\n",
    "    6\n",
    "    >>> hol = higher_order_lambdas()\n",
    "    >>> triples = hol(3)\n",
    "    >>> triples(4)\n",
    "    12\n",
    "    \"\"\"\n",
    "    \"*** YOUR CODE HERE ***\""
   ]
  },
  {
   "cell_type": "markdown",
   "id": "e3c10493-07ae-40a9-b5b6-0db94a020630",
   "metadata": {},
   "source": [
    "## Question 3: Lambdas and Currying\n",
    "\n",
    "We can transform multiple-argument functions into a chain of single-argument, higher order functions by taking advantage of lambda expressions. This is useful when dealing with functions that take only single-argument functions. We will see some examples of these later on.\n",
    "\n",
    "Write a function lambda_curry2 that will curry any two argument function f2 using lambdas. See the doctest if you're not sure what this means."
   ]
  },
  {
   "cell_type": "code",
   "execution_count": null,
   "id": "b232c7fa-2bcd-454b-ae1f-4e6d4f258809",
   "metadata": {},
   "outputs": [],
   "source": [
    "def lambda_curry2(f2):\n",
    "    \"\"\"\n",
    "    Returns a Curried version of a two argument function func.\n",
    "    >>> from operator import add\n",
    "    >>> x = lambda_curry2(add)\n",
    "    >>> y = x(3)\n",
    "    >>> y(5)\n",
    "    8\n",
    "    \"\"\"\n",
    "    \"*** YOUR CODE HERE ***\""
   ]
  },
  {
   "cell_type": "code",
   "execution_count": null,
   "id": "efa3a19e-2696-48f3-be67-6a4a8fded675",
   "metadata": {},
   "outputs": [],
   "source": []
  }
 ],
 "metadata": {
  "kernelspec": {
   "display_name": "Python 3 (ipykernel)",
   "language": "python",
   "name": "python3"
  },
  "language_info": {
   "codemirror_mode": {
    "name": "ipython",
    "version": 3
   },
   "file_extension": ".py",
   "mimetype": "text/x-python",
   "name": "python",
   "nbconvert_exporter": "python",
   "pygments_lexer": "ipython3",
   "version": "3.9.16"
  }
 },
 "nbformat": 4,
 "nbformat_minor": 5
}
