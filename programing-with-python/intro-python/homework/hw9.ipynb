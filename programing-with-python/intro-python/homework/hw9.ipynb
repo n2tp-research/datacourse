{
 "cells": [
  {
   "cell_type": "markdown",
   "id": "2e2b7eb7-6210-4d3d-bc57-2b7c224d67a6",
   "metadata": {},
   "source": [
    "## Question 1: Reduce\n",
    "\n",
    "Write the recursive version of the function reduce which takes\n",
    "\n",
    "- reducer - a two-argument function that reduces elements to a single value\n",
    "- seq - a sequence of values\n",
    "- start - the starting value in the reduction. This is usually the identity of the reducer\n",
    "\n",
    "If you're feeling stuck, think about the parameters of reduce."
   ]
  },
  {
   "cell_type": "code",
   "execution_count": 1,
   "id": "337a000d-9e43-4616-9cf4-8c8b54444cba",
   "metadata": {},
   "outputs": [],
   "source": [
    "from operator import add, mul\n",
    "\n",
    "def reduce(reducer, seq, start):\n",
    "    \"\"\"Reduce a sequence under a two-argument function starting from a start value.\n",
    "\n",
    "    >>> def add(x, y):\n",
    "    ...     return x + y\n",
    "    >>> def mul(x, y):\n",
    "    ...     return x*y\n",
    "    >>> reduce(add, [1,2,3,4], 0)\n",
    "    10\n",
    "    >>> reduce(mul, [1,2,3,4], 0)\n",
    "    0\n",
    "    >>> reduce(mul, [1,2,3,4], 1)\n",
    "    24\n",
    "    \"\"\"\n",
    "    \"*** YOUR CODE HERE ***\""
   ]
  },
  {
   "cell_type": "markdown",
   "id": "d9243f16-278a-4e27-a59e-db9adedbc3ce",
   "metadata": {},
   "source": [
    "## Question 2: Remove Last from Sequence\n",
    "\n",
    "Complete the recursive function remove_last which creates a new list identical to the input list lst but with the last element in the sequence that is equal to x removed.\n",
    "\n",
    "Hint: Remember that you can use negative indexing on lists! For example `lst[-1]` refers to the last element in a list lst, `lst[-2]` refers to the second to last element..."
   ]
  },
  {
   "cell_type": "code",
   "execution_count": 2,
   "id": "33ca9d1c-a3bf-4dfe-ba0b-1cd2594701e0",
   "metadata": {},
   "outputs": [],
   "source": [
    "def remove_last(x, lst):\n",
    "    \"\"\"Create a new list that is identical to lst but with the last\n",
    "    element from the list that is equal to x removed.\n",
    "\n",
    "    >>> remove_last(1,[])\n",
    "    []\n",
    "    >>> remove_last(1,[1])\n",
    "    []\n",
    "    >>> remove_last(1,[1,1])\n",
    "    [1]\n",
    "    >>> remove_last(1,[2,1])\n",
    "    [2]\n",
    "    >>> remove_last(1,[3,1,2])\n",
    "    [3, 2]\n",
    "    >>> remove_last(1,[3,1,2,1])\n",
    "    [3, 1, 2]\n",
    "    >>> remove_last(5, [3, 5, 2, 5, 11])\n",
    "    [3, 5, 2, 11]\n",
    "    \"\"\"\n",
    "    \"*** YOUR CODE HERE ***\""
   ]
  },
  {
   "cell_type": "markdown",
   "id": "dbf8598f-3560-413f-a3a3-aa1f38a5eca8",
   "metadata": {},
   "source": [
    "## Question 3: Map\n",
    "\n",
    "Write the recursive version of the function map which takes\n",
    "\n",
    "- m - a one-argument function that you want to map onto each element in the list.\n",
    "- s - a sequence of values"
   ]
  },
  {
   "cell_type": "code",
   "execution_count": 3,
   "id": "9a0a0547-0b72-4bd9-951e-458cc721ade4",
   "metadata": {},
   "outputs": [],
   "source": [
    "def map(f, seq):\n",
    "    \"\"\"\n",
    "    Map a function f onto a sequence.\n",
    "\n",
    "    >>> def double(x):\n",
    "    ...     return x * 2\n",
    "    >>> def square(x):\n",
    "    ...     return x ** 2\n",
    "    >>> def toLetter(x):\n",
    "    ...     alpha = ['a', 'b', 'c', 'd', 'e', 'f', 'g', 'h', 'i', 'j', 'k', 'l', 'm', 'n', 'o', 'p', 'q', 'r', 's', 't', 'u', 'v', 'w', 'x', 'y', 'z']\n",
    "    ...     return alpha[x%26]\n",
    "    >>> map(double, [1,2,3,4])\n",
    "    [2, 4, 6, 8]\n",
    "    >>> map(square, [1, 2, 3, 4, 5, 10])\n",
    "    [1, 4, 9, 16, 25, 100]\n",
    "    >>> map(toLetter, [3, 0, 19, 0])\n",
    "    ['d', 'a', 't', 'a']\n",
    "\n",
    "    \"\"\"\n",
    "    \"*** YOUR CODE HERE ***\""
   ]
  },
  {
   "cell_type": "markdown",
   "id": "e27da7b7-4c2f-4110-9b8d-501dd81b10a7",
   "metadata": {},
   "source": [
    "## Question 4: Hailstone\n",
    "\n",
    "For the hailstone function from previously, you pick a positive integer n as the start. If n is even, divide it by 2. If n is odd, multiply it by 3 and add 1. Repeat this process until n is 1. Write a recursive version of hailstone that prints out the values of the sequence and returns the number of steps."
   ]
  },
  {
   "cell_type": "code",
   "execution_count": 4,
   "id": "366bda70-1cda-4b68-afe4-1bf5556ed122",
   "metadata": {},
   "outputs": [],
   "source": [
    "def hailstone_iterative(n):\n",
    "    \"\"\"Print out the hailstone sequence starting at n, and return the\n",
    "    number of elements in the sequence.\n",
    "\n",
    "    >>> a = hailstone_iterative(10)\n",
    "    10\n",
    "    5\n",
    "    16\n",
    "    8\n",
    "    4\n",
    "    2\n",
    "    1\n",
    "    >>> a\n",
    "    7\n",
    "    \"\"\"\n",
    "    \"*** YOUR CODE HERE ***\"\n",
    "\n",
    "def hailstone_recursive(n):\n",
    "    \"\"\"Print out the hailstone sequence starting at n, and return the\n",
    "    number of elements in the sequence.\n",
    "\n",
    "    >>> a = hailstone_recursive(10)\n",
    "    10\n",
    "    5\n",
    "    16\n",
    "    8\n",
    "    4\n",
    "    2\n",
    "    1\n",
    "    >>> a\n",
    "    7\n",
    "    \"\"\"\n",
    "    \"*** YOUR CODE HERE ***\""
   ]
  },
  {
   "cell_type": "markdown",
   "id": "94b284c4-bf9b-4da5-9b00-37774ad71d2f",
   "metadata": {},
   "source": [
    "Question 5: Count Change\n",
    "\n",
    "A set of coins makes change for n if the sum of the values of the coins is n. For example, if you have 1-cent, 2-cent and 4-cent coins, the following sets make change for 7:\n",
    "\n",
    "- 7 1-cent coins\n",
    "- 5 1-cent, 1 2-cent coins\n",
    "- 3 1-cent, 2 2-cent coins\n",
    "- 3 1-cent, 1 4-cent coins\n",
    "- 1 1-cent, 3 2-cent coins\n",
    "- 1 1-cent, 1 2-cent, 1 4-cent coins\n",
    "\n",
    "Thus, there are 6 ways to make change for 7. Write a function count_change that takes a positive integer n and a list of the coin denominations, coins, and returns the number of ways to make change for n using these coins (Hint: You will need to use tree recursion):"
   ]
  },
  {
   "cell_type": "code",
   "execution_count": 5,
   "id": "e7c232d0-e44e-434d-981f-16a17d795f13",
   "metadata": {},
   "outputs": [],
   "source": [
    "def count_change(amount, coins):\n",
    "    \"\"\"Returns the number of ways to make change for amount.\n",
    "\n",
    "    >>> coins = [50, 25, 10, 5, 1]\n",
    "    >>> count_change(7, coins)\n",
    "    2\n",
    "    >>> count_change(100, coins)\n",
    "    292\n",
    "    >>> coins = [16, 8, 4, 2, 1]\n",
    "    >>> count_change(7, coins)\n",
    "    6\n",
    "    >>> count_change(10, coins)\n",
    "    14\n",
    "    >>> count_change(20, coins)\n",
    "    60\n",
    "    \"\"\"\n",
    "    \"*** YOUR CODE HERE ***\""
   ]
  },
  {
   "cell_type": "code",
   "execution_count": null,
   "id": "50c6e8d5-23bb-46e1-ab51-643f1d937647",
   "metadata": {},
   "outputs": [],
   "source": []
  }
 ],
 "metadata": {
  "kernelspec": {
   "display_name": "Python 3 (ipykernel)",
   "language": "python",
   "name": "python3"
  },
  "language_info": {
   "codemirror_mode": {
    "name": "ipython",
    "version": 3
   },
   "file_extension": ".py",
   "mimetype": "text/x-python",
   "name": "python",
   "nbconvert_exporter": "python",
   "pygments_lexer": "ipython3",
   "version": "3.9.16"
  }
 },
 "nbformat": 4,
 "nbformat_minor": 5
}
