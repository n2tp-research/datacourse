{
 "cells": [
  {
   "cell_type": "markdown",
   "id": "40b9b1d3-ed47-426d-a151-5500a7315119",
   "metadata": {},
   "source": [
    "## Question 1: Adding matrices\r\n",
    "\r\n",
    "Write a function that adds two matrices together using list comprehensions. The function should take in two 2D lists of the same dimensions. Try to implement this in one line!"
   ]
  },
  {
   "cell_type": "code",
   "execution_count": null,
   "id": "1639acd4-3e7e-4b0e-b0e5-d269149583f1",
   "metadata": {},
   "outputs": [],
   "source": [
    "def add_matrices(x, y):\n",
    "    \"\"\"\n",
    "    >>> matrix1 = [[1, 3],\n",
    "    ...            [2, 0]]\n",
    "    >>> matrix2 = [[-3, 0],\n",
    "    ...            [1, 2]]\n",
    "    >>> add_matrices(matrix1, matrix2)\n",
    "    [[-2, 3], [3, 2]]\n",
    "    >>> matrix4 = [[ 1, -2,  3],\n",
    "    ...            [-4,  5, -6]]\n",
    "    >>> matrix5 = [[-1,  2, -3],\n",
    "    ...            [ 4, -5,  6]]\n",
    "    >>> add_matrices(matrix4, matrix5)\n",
    "    [[0, 0, 0], [0, 0, 0]]\n",
    "    \"\"\"\n",
    "    \"*** YOUR CODE HERE ***\""
   ]
  },
  {
   "cell_type": "markdown",
   "id": "58f7de27-3532-42cb-8970-c46c93084d9f",
   "metadata": {},
   "source": [
    "## Question 2: Mul_by_num\n",
    "\n",
    "Using higher order functions, complete the mul_by_num function. This function should take an argument and return a one argument function that multiplies any value passed to it by the original number."
   ]
  },
  {
   "cell_type": "code",
   "execution_count": null,
   "id": "c19ade81-e8b9-4cf8-ac72-4df9cdc4816b",
   "metadata": {},
   "outputs": [],
   "source": [
    "def mul_by_num(factor):\n",
    "    \"\"\"\n",
    "    Returns a function that takes one argument and\n",
    "    returns the product of factor and that argument.\n",
    "    >>> x = mul_by_num(5)\n",
    "    >>> y = mul_by_num(2)\n",
    "    >>> x(3)\n",
    "    15\n",
    "    >>> y(-4)\n",
    "    -8\n",
    "    \"\"\"\n",
    "    \"*** YOUR CODE HERE ***\""
   ]
  },
  {
   "cell_type": "markdown",
   "id": "c7f0324e-756d-4d73-88e3-6e5165dd85c1",
   "metadata": {},
   "source": [
    "## Question 3: This Question is so Derivative\n",
    "\n",
    "Define a function `make_derivative` that returns a function: the derivative of a function $f$. Assuming that $f$ is a single-variable mathematical function, its derivative will also be a single-variable function. When called with a number $a$, the derivative will estimate the slope of $f$ at point $(a, f(a))$.\n",
    "\n",
    "Recall that the formula for finding the derivative of f at point a is:\n",
    "\n",
    "$$f^{\\prime}(a)=\\lim _{h \\rightarrow 0} \\frac{f(a+h)-f(a)}{h}$$\n",
    "\n",
    "where $h$ approaches 0. We will approximate the derivative by choosing a very small value for h. The closer h is to 0, the better the estimate of the derivative will be."
   ]
  },
  {
   "cell_type": "code",
   "execution_count": null,
   "id": "f0225c5b-4270-4010-b023-c43b1dd13dcd",
   "metadata": {},
   "outputs": [],
   "source": [
    "def make_derivative(f):\n",
    "    \"\"\"Returns a function that approximates the derivative of f.\n",
    "\n",
    "    Recall that f'(a) = (f(a + h) - f(a)) / h as h approaches 0. We will\n",
    "    approximate the derivative by choosing a very small value for h.\n",
    "\n",
    "    >>> def square(x): \n",
    "    ...     # equivalent to: square = lambda x: x*x\n",
    "    ...     return x*x\n",
    "    >>> derivative = make_derivative(square)\n",
    "    >>> result = derivative(3)\n",
    "    >>> round(result, 3) # approximately 2*3\n",
    "    6.0\n",
    "    \"\"\"\n",
    "    h=0.00001\n",
    "    \"*** YOUR CODE HERE ***\""
   ]
  },
  {
   "cell_type": "markdown",
   "id": "47676ec5-e0ec-4352-bf2d-b30301d8994b",
   "metadata": {},
   "source": [
    "# Count van Count\r\n",
    "\r\n",
    "Consider the following implementations of count_factors and count_primes:"
   ]
  },
  {
   "cell_type": "code",
   "execution_count": null,
   "id": "eb4df773-1100-4f5e-b903-4d5a9a88a21a",
   "metadata": {},
   "outputs": [],
   "source": [
    "def count_factors(n):\n",
    "    \"\"\"Return the number of positive factors that n has.\"\"\"\n",
    "    i, count = 1, 0\n",
    "    while i <= n:\n",
    "        if n % i == 0:\n",
    "            count += 1\n",
    "        i += 1\n",
    "    return count\n",
    "\n",
    "def count_primes(n):\n",
    "    \"\"\"Return the number of prime numbers up to and including n.\"\"\"\n",
    "    i, count = 1, 0\n",
    "    while i <= n:\n",
    "        if is_prime(i):\n",
    "            count += 1\n",
    "        i += 1\n",
    "    return count\n",
    "\n",
    "def is_prime(n):\n",
    "    return count_factors(n) == 2 # only factors are 1 and n"
   ]
  },
  {
   "cell_type": "markdown",
   "id": "35ab6a1c-4ad5-4ee2-9c53-1d2cb8aba098",
   "metadata": {},
   "source": [
    "The implementations look quite similar! Generalize this logic by writing a function count_cond, which takes in a two-argument predicate function mystery_function(n, i). count_cond returns a count of all the numbers from 1 to n that satisfy mystery_function.\n",
    "\n",
    "Note: A predicate function is a function that returns a boolean (True or False)."
   ]
  },
  {
   "cell_type": "code",
   "execution_count": null,
   "id": "3c2ebabc-f829-4824-a6cf-c8e1273d97cf",
   "metadata": {},
   "outputs": [],
   "source": [
    "def count_cond(mystery_function, n):\n",
    "    \"\"\"\n",
    "    >>> def divisible(n, i):\n",
    "    ...     return n % i == 0\n",
    "    >>> count_cond(divisible, 2) # 1, 2\n",
    "    2\n",
    "    >>> count_cond(divisible, 4) # 1, 2, 4\n",
    "    3\n",
    "    >>> count_cond(divisible, 12) # 1, 2, 3, 4, 6, 12\n",
    "    6\n",
    "\n",
    "    >>> def is_prime(n, i):\n",
    "    ...     return count_cond(divisible, i) == 2\n",
    "    >>> count_cond(is_prime, 2) # 2\n",
    "    1\n",
    "    >>> count_cond(is_prime, 3) # 2, 3\n",
    "    2\n",
    "    >>> count_cond(is_prime, 4) # 2, 3\n",
    "    2\n",
    "    >>> count_cond(is_prime, 5) # 2, 3, 5\n",
    "    3\n",
    "    >>> count_cond(is_prime, 20) # 2, 3, 5, 7, 11, 13, 17, 19\n",
    "    8\n",
    "    \"\"\"\n",
    "    \"*** YOUR CODE HERE ***\""
   ]
  },
  {
   "cell_type": "markdown",
   "id": "d5fbbac5-e3da-478d-bdcb-bb2c82d91919",
   "metadata": {},
   "source": [
    "Question 5: I Heard You Liked Functions...\n",
    "\n",
    "Define a function cycle that takes in three functions `f1, f2, f3`, as arguments. cycle will return another function that should take in an integer argument `n` and return another function. That final function should take in an argument `x` and cycle through applying `f1, f2, and f3` to `x`, depending on what n was. Here's the what the final function should do to `x` for a few values of `n`:\n",
    "\n",
    "- n = 0, return `x`\n",
    "- n = 1, apply `f1` to `x`, or return `f1(x)`\n",
    "- n = 2, apply `f1` to `x` and then `f2` to the result of that, or return `f2(f1(x))`\n",
    "- n = 3, apply `f1` to `x`, `f2` to the result of applying `f1`, and then `f3` to the result of applying `f2`, or `f3(f2(f1(x)))`\n",
    "- n = 4, start the cycle again applying `f1`, then `f2`, then `f3`, then `f1` again, or `f1(f3(f2(f1(x))))`\n",
    "- And so forth.\n",
    "\n",
    "Hint: most of the work goes inside the most nested function.\n",
    "Hint 2: given n, how many function calls are made on x?\n",
    "Hint 3: for help with how to cycle through the functions (i.e., how to go back to applying f1 as your outermost function call when n = 4), consider looking at this python tutor demo which has similar cycling behaviour."
   ]
  },
  {
   "cell_type": "markdown",
   "id": "0c3adc76-77d5-43c3-809f-b7cdcec7ee42",
   "metadata": {},
   "source": [
    "def cycle(f1, f2, f3):\n",
    "    \"\"\" Returns a function that is itself a higher order function\n",
    "    >>> def add1(x):\n",
    "    ...     return x + 1\n",
    "    >>> def times2(x):\n",
    "    ...     return x * 2\n",
    "    >>> def add3(x):\n",
    "    ...     return x + 3\n",
    "    >>> my_cycle = cycle(add1, times2, add3)\n",
    "    >>> identity = my_cycle(0)\n",
    "    >>> identity(5)\n",
    "    5\n",
    "    >>> add_one_then_double = my_cycle(2)\n",
    "    >>> add_one_then_double(1)\n",
    "    4\n",
    "    >>> do_all_functions = my_cycle(3)\n",
    "    >>> do_all_functions(2)\n",
    "    9\n",
    "    >>> do_more_than_a_cycle = my_cycle(4)\n",
    "    >>> do_more_than_a_cycle(2)\n",
    "    10\n",
    "    >>> do_two_cycles = my_cycle(6)\n",
    "    >>> do_two_cycles(1)\n",
    "    19\n",
    "    \"\"\"\n",
    "    \"*** YOUR CODE HERE ***\""
   ]
  },
  {
   "cell_type": "markdown",
   "id": "566dfdd7-ecee-4dde-bccd-8c4fa03892c7",
   "metadata": {},
   "source": [
    "## Question 6: The Word Guessing Game\n",
    "\n",
    "Write a higher order function called store_word that takes in a secret word. It will return the length of the secret word and another function, guess_word, that the user can use to try to guess the secret word.\n",
    "\n",
    "Assume that when the user tries to guess the secret word, they will only guess words that are equal in length to the secret word. The user can pass their guess into the guess_word function, and it will return a list where every element in the list is a boolean, True or False, indicating whether the letter at that index matches the letter in the secret word!"
   ]
  },
  {
   "cell_type": "code",
   "execution_count": null,
   "id": "481fa624-6255-49d3-a002-4ace4d011a55",
   "metadata": {},
   "outputs": [],
   "source": [
    "def store_word(secret):\n",
    "    \"\"\"\n",
    "    >>> word_len, guess_word = store_word(\"cake\")\n",
    "    >>> word_len\n",
    "    4\n",
    "    >>> guess_word(\"corn\")\n",
    "    [True, False, False, False]\n",
    "    >>> guess_word(\"come\")\n",
    "    [True, False, False, True]\n",
    "    >>> guess_word(\"cake\")\n",
    "    [True, True, True, True]\n",
    "    >>> word_len, guess_word = store_word(\"pop\")\n",
    "    >>> word_len\n",
    "    3\n",
    "    >>> guess_word(\"ate\")\n",
    "    [False, False, False]\n",
    "    >>> guess_word(\"top\")\n",
    "    [False, True, True]\n",
    "    >>> guess_word(\"pop\")\n",
    "    [True, True, True]\n",
    "    \"\"\"\n",
    "    \"*** YOUR CODE HERE ***\""
   ]
  },
  {
   "cell_type": "code",
   "execution_count": null,
   "id": "c4c67ee8-7512-4c3d-8e67-44e2cf4070d7",
   "metadata": {},
   "outputs": [],
   "source": []
  }
 ],
 "metadata": {
  "kernelspec": {
   "display_name": "Python 3 (ipykernel)",
   "language": "python",
   "name": "python3"
  },
  "language_info": {
   "codemirror_mode": {
    "name": "ipython",
    "version": 3
   },
   "file_extension": ".py",
   "mimetype": "text/x-python",
   "name": "python",
   "nbconvert_exporter": "python",
   "pygments_lexer": "ipython3",
   "version": "3.9.16"
  }
 },
 "nbformat": 4,
 "nbformat_minor": 5
}
