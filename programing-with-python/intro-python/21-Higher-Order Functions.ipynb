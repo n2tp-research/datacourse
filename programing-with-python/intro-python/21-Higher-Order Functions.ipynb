{
 "cells": [
  {
   "cell_type": "markdown",
   "id": "1c7598c0-dcda-46fa-8e24-2eb3e009fda9",
   "metadata": {},
   "source": [
    "# Higher-Order Functions\n",
    "\n",
    "We have seen that functions are a method of abstraction that describe compound operations independent of the particular values of their arguments. That is, in `square`,"
   ]
  },
  {
   "cell_type": "code",
   "execution_count": null,
   "id": "a4472711-f88b-4049-8ea7-0ce26457d8fc",
   "metadata": {},
   "outputs": [],
   "source": [
    "def square(x):\n",
    "    return x * x"
   ]
  },
  {
   "cell_type": "markdown",
   "id": "e9334d2b-4bcd-41a8-ac10-c01967768694",
   "metadata": {},
   "source": [
    "we are not talking about the square of a particular number, but rather about a method for obtaining the square of any number. Of course, we could get along without ever defining this function, by always writing expressions such as"
   ]
  },
  {
   "cell_type": "code",
   "execution_count": null,
   "id": "378425b4-7c27-4991-9df5-9f8aa595e154",
   "metadata": {},
   "outputs": [],
   "source": [
    "3 * 3"
   ]
  },
  {
   "cell_type": "markdown",
   "id": "e7127243-cea0-4b23-a6c9-dc9886718d9b",
   "metadata": {},
   "source": [
    "and never mentioning `square` explicitly. This practice would suffice for simple computations such as square, but would become arduous for more complex examples such as `abs` or `fib`. In general, lacking function definition would put us at the disadvantage of forcing us to work always at the level of the particular operations that happen to be primitives in the language (multiplication, in this case) rather than in terms of higher-level operations. Our programs would be able to compute squares, but our language would lack the ability to express the concept of squaring.\n",
    "\n",
    "One of the things we should demand from a powerful programming language is the ability to build abstractions by assigning names to common patterns and then to work in terms of the names directly. Functions provide this ability. As we will see in the following examples, there are common programming patterns that recur in code, but are used with a number of different functions. These patterns can also be abstracted, by giving them names.\r\n",
    "\r\n",
    "To express certain general patterns as named concepts, we will need to construct functions that can accept other functions as arguments or return functions as values. Functions that manipulate functions are called higher-order functions. This section shows how higher-order functions can serve as powerful abstraction mechanisms, vastly increasing the expressive power of our language."
   ]
  },
  {
   "cell_type": "markdown",
   "id": "1abae9be-1181-4acb-9902-185d53c392a4",
   "metadata": {},
   "source": [
    "## Functions as Arguments\n",
    "\n",
    "Consider the following three functions, which all compute summations. The first, `sum_naturals`, computes the sum of natural numbers up to `n`:"
   ]
  },
  {
   "cell_type": "code",
   "execution_count": null,
   "id": "47ae37b6-e719-4b79-9ad9-333dd87246a9",
   "metadata": {},
   "outputs": [],
   "source": [
    "def sum_naturals(n):\n",
    "    total, k = 0, 1\n",
    "    while k <= n:\n",
    "        total, k = total + k, k + 1\n",
    "    return total"
   ]
  },
  {
   "cell_type": "code",
   "execution_count": null,
   "id": "a11db5d0-cca9-45d9-8eba-1d2d7b384a32",
   "metadata": {},
   "outputs": [],
   "source": [
    "sum_naturals(100)"
   ]
  },
  {
   "cell_type": "markdown",
   "id": "8a6f5e16-5cab-4e60-aa1c-18d61c2a5742",
   "metadata": {},
   "source": [
    "The second, `sum_cubes`, computes the sum of the cubes of natural numbers up to `n`."
   ]
  },
  {
   "cell_type": "code",
   "execution_count": null,
   "id": "ded3ca6f-f8b1-4593-93ad-2e35643443a4",
   "metadata": {},
   "outputs": [],
   "source": [
    "def sum_cubes(n):\n",
    "    total, k = 0, 1\n",
    "    while k <= n:\n",
    "        total, k = total + k*k*k, k + 1\n",
    "    return total"
   ]
  },
  {
   "cell_type": "code",
   "execution_count": null,
   "id": "9c149466-d49b-46ff-976d-ee8c23c1896f",
   "metadata": {},
   "outputs": [],
   "source": [
    "sum_cubes(100)"
   ]
  },
  {
   "cell_type": "markdown",
   "id": "da7166e5-46e3-407d-8124-d88203830bd3",
   "metadata": {},
   "source": [
    "The third, `pi_sum`, computes the sum of terms in the series\n",
    "\n",
    "$$\\frac{8}{1 \\cdot 3}+\\frac{8}{5 \\cdot 7}+\\frac{8}{9 \\cdot 11}+\\ldots$$\n",
    "\n",
    "which converges to pi very slowly."
   ]
  },
  {
   "cell_type": "code",
   "execution_count": null,
   "id": "ed94a2c3-d8db-4c80-abf1-39fc0ae111d9",
   "metadata": {},
   "outputs": [],
   "source": [
    "def pi_sum(n):\n",
    "    total, k = 0, 1\n",
    "    while k <= n:\n",
    "        total, k = total + 8 / ((4*k-3) * (4*k-1)), k + 1\n",
    "    return total"
   ]
  },
  {
   "cell_type": "code",
   "execution_count": null,
   "id": "a62564e7-f03a-4281-95f7-b48e62009a3e",
   "metadata": {},
   "outputs": [],
   "source": [
    "pi_sum(100)"
   ]
  },
  {
   "cell_type": "markdown",
   "id": "269408c8-440a-4a67-96d0-1c2a2e5c814d",
   "metadata": {},
   "source": [
    "These three functions clearly share a common underlying pattern. They are for the most part identical, differing only in name and the function of k used to compute the term to be added. We could generate each of the functions by filling in slots in the same template:\n",
    "\n",
    "```python\n",
    "def <name>(n):\n",
    "    total, k = 0, 1\n",
    "    while k <= n:\n",
    "        total, k = total + <term>(k), k + 1\n",
    "    return total\n",
    "```\n",
    "\n",
    "The presence of such a common pattern is strong evidence that there is a useful abstraction waiting to be brought to the surface. Each of these functions is a summation of terms. As program designers, we would like our language to be powerful enough so that we can write a function that expresses the concept of summation itself rather than only functions that compute particular sums. We can do so readily in Python by taking the common template shown above and transforming the \"slots\" into formal parameters:\n",
    "\n",
    "In the example below, `summation` takes as its two arguments the upper bound `n` together with the function term that computes the kth term. We can use `summation` just as we would any function, and it expresses summations succinctly. Take the time to step through this example, and notice how binding cube to the local names term ensures that the result 1*1*1 + 2*2*2 + 3*3*3 = 36 is computed correctly. In this example, frames which are no longer needed are removed to save space."
   ]
  },
  {
   "cell_type": "code",
   "execution_count": null,
   "id": "256f45a8-84b3-472f-b32a-c3d266500f29",
   "metadata": {},
   "outputs": [],
   "source": [
    "def summation(n, term):\n",
    "    total, k = 0, 1\n",
    "    while k <= n:\n",
    "        total, k = total + term(k), k + 1\n",
    "    return total\n",
    "def cube(x):\n",
    "    return x*x*x\n",
    "\n",
    "def sum_cubes(n):\n",
    "    return summation(n, cube)"
   ]
  },
  {
   "cell_type": "code",
   "execution_count": null,
   "id": "498c241e-05ac-4f0c-9604-2b382405e1d0",
   "metadata": {},
   "outputs": [],
   "source": [
    "sum_cubes(3)"
   ]
  },
  {
   "cell_type": "markdown",
   "id": "2b744248-5203-45ce-871d-40a939af32ca",
   "metadata": {},
   "source": [
    "Using an `identity` function that returns its argument, we can also sum natural numbers using exactly the same `summation` function."
   ]
  },
  {
   "cell_type": "code",
   "execution_count": null,
   "id": "4c7140b2-b152-44d6-8206-f274e780dee4",
   "metadata": {},
   "outputs": [],
   "source": [
    "def identity(x):\n",
    "    return x\n",
    "\n",
    "def sum_naturals(n):\n",
    "    return summation(n, identity)"
   ]
  },
  {
   "cell_type": "code",
   "execution_count": null,
   "id": "acc75fe5-73dd-472d-b1df-6c67aa350bc9",
   "metadata": {},
   "outputs": [],
   "source": [
    "sum_naturals(10)"
   ]
  },
  {
   "cell_type": "markdown",
   "id": "24b22600-22ae-49b7-b031-24a64eb5bad3",
   "metadata": {},
   "source": [
    "We can define `pi_sum` using our summation abstraction by defining a function `pi_term` to compute each term. We pass the argument 1e6, a shorthand for 1 * 10^6 = 1000000, to generate a close approximation to pi."
   ]
  },
  {
   "cell_type": "code",
   "execution_count": null,
   "id": "1189374b-c1fc-41c6-9bb7-30e9869a49ca",
   "metadata": {},
   "outputs": [],
   "source": [
    "def pi_term(x):\n",
    "    return 8 / ((4*x-3) * (4*x-1))\n",
    "\n",
    "def pi_sum(n):\n",
    "    return summation(n, pi_term)"
   ]
  },
  {
   "cell_type": "code",
   "execution_count": null,
   "id": "5865b2d0-0ff0-4edb-bc9c-30b150980982",
   "metadata": {},
   "outputs": [],
   "source": [
    "pi_sum(1e6)"
   ]
  },
  {
   "cell_type": "markdown",
   "id": "a198fa17-ea2d-4284-bd20-0fcf3694e5d6",
   "metadata": {},
   "source": [
    "## Functions as General Methods\n",
    "We introduced user-defined functions as a mechanism for abstracting patterns of numerical operations so as to make them independent of the particular numbers involved. With higher-order functions, we begin to see a more powerful kind of abstraction: some functions express general methods of computation, independent of the particular functions they call.\r\n",
    "\r\n",
    "Despite this conceptual extension of what a function means, our environment model of how to evaluate a call expression extends gracefully to the case of higher-order functions, without change. When a user-defined function is applied to some arguments, the formal parameters are bound to the values of those arguments (which may be functions) in a new local frame.\r\n",
    "\r\n",
    "Consider the following example, which implements a general method for iterative improvement and uses it to compute the golden ratio. The golden ratio, often called \"phi\", is a number near 1.6 that appears frequently in nature, art, and architecture.\r\n",
    "\r\n",
    "An iterative improvement algorithm begins w`ith a` guess of a solution to an equation. It repeatedly appli`es an `update function to improve that guess, and appl`ies a` close comparison to check whether the cu`rrent` guess is \"close enough\" to be considered correct."
   ]
  },
  {
   "cell_type": "code",
   "execution_count": null,
   "id": "cf3f823b-217b-4dd7-a79f-62e0161a30c5",
   "metadata": {},
   "outputs": [],
   "source": [
    "def improve(update, close, guess=1):\n",
    "    while not close(guess):\n",
    "        guess = update(guess)\n",
    "    return guess"
   ]
  },
  {
   "cell_type": "markdown",
   "id": "74e0ceb7-bc9a-428f-945e-60869e6738d2",
   "metadata": {},
   "source": [
    "This `improve` function is a general expression of repetitive refinement. It doesn't specify what problem is being solved: those details are left to the `update` and `close` functions passed in as arguments.\n",
    "\n",
    "Among the well-known properties of the golden ratio are that it can be computed by repeatedly summing the inverse of any positive number with 1, and that it is one less than its square. We can express these properties as functions to be used with `improve`."
   ]
  },
  {
   "cell_type": "code",
   "execution_count": null,
   "id": "6cac5eec-add5-4679-ae73-8553810616db",
   "metadata": {},
   "outputs": [],
   "source": [
    "def golden_update(guess):\n",
    "    return 1/guess + 1\n",
    "\n",
    "def square_close_to_successor(guess):\n",
    "    return approx_eq(guess * guess, guess + 1)"
   ]
  },
  {
   "cell_type": "markdown",
   "id": "056f95c9-e3b3-4c38-a54a-2fe83157c88f",
   "metadata": {},
   "source": [
    "Above, we introduce a call to `approx_eq` that is meant to return True if its arguments are approximately equal to each other. To implement, `approx_eq`, we can compare the absolute value of the difference between two numbers to a small tolerance value."
   ]
  },
  {
   "cell_type": "code",
   "execution_count": null,
   "id": "4d6e4b47-f37e-41de-9830-f273ef1c0e31",
   "metadata": {},
   "outputs": [],
   "source": [
    "def approx_eq(x, y, tolerance=1e-15):\n",
    "    return abs(x - y) < tolerance"
   ]
  },
  {
   "cell_type": "markdown",
   "id": "c17b7c34-23e7-4aef-98a8-bde8447fea05",
   "metadata": {},
   "source": [
    "Calling improve with the arguments `golden_update` and `square_close_to_successor` will compute a finite approximation to the golden ratio."
   ]
  },
  {
   "cell_type": "code",
   "execution_count": null,
   "id": "ff227c53-cdff-4809-bef5-3a1f68c78ba7",
   "metadata": {},
   "outputs": [],
   "source": [
    "improve(golden_update, square_close_to_successor)"
   ]
  },
  {
   "cell_type": "markdown",
   "id": "f952b9ed-940b-4bd2-9032-25161d0705f5",
   "metadata": {},
   "source": [
    "By tracing through the steps of evaluation, we can see how this result is computed. First, a local frame for improve is constructed with bindings for `update`, `close`, and `guess`. In the body of improve, the name close is bound to `square_close_to_successor`, which is called on the initial value of `guess`. Trace through the rest of the steps to see the computational process that evolves to compute the golden ratio."
   ]
  },
  {
   "cell_type": "markdown",
   "id": "e859e648-9188-4f77-8caf-450ebd0bf2a5",
   "metadata": {},
   "source": [
    "This example illustrates two related big ideas in computer science. First, naming and functions allow us to abstract away a vast amount of complexity. While each function definition has been trivial, the computational process set in motion by our evaluation procedure is quite intricate. Second, it is only by virtue of the fact that we have an extremely general evaluation procedure for the Python language that small components can be composed into complex processes. Understanding the procedure of interpreting programs allows us to validate and inspect the process we have created.\n",
    "\n",
    "As always, our new general method improve needs a test to check its correctness. The golden ratio can provide such a test, because it also has an exact closed-form solution, which we can compare to this iterative result."
   ]
  },
  {
   "cell_type": "code",
   "execution_count": null,
   "id": "7072578f-f8de-43c0-a91a-580c6d1d468e",
   "metadata": {},
   "outputs": [],
   "source": [
    "from math import sqrt\n",
    "phi = 1/2 + sqrt(5)/2\n",
    "def improve_test():\n",
    "    approx_phi = improve(golden_update, square_close_to_successor)\n",
    "    assert approx_eq(phi, approx_phi), 'phi differs from its approximation'"
   ]
  },
  {
   "cell_type": "code",
   "execution_count": null,
   "id": "345190fc-1d53-4f46-b227-b58cc6ed5ced",
   "metadata": {},
   "outputs": [],
   "source": [
    "improve_test()"
   ]
  },
  {
   "cell_type": "markdown",
   "id": "f944d7d1-0bcc-42dd-b9db-7cd1789b0692",
   "metadata": {},
   "source": [
    "For this test, no news is good news: `improve_test` returns `None` after its assert statement is executed successfully."
   ]
  },
  {
   "cell_type": "markdown",
   "id": "9ea178d9-abd1-402a-b28d-911717671e78",
   "metadata": {},
   "source": [
    "## Functions as Returned Values\n",
    "We can achieve even more expressive power in our programs by creating functions whose returned values are themselves functions. An important feature of lexically scoped programming languages is that locally defined functions maintain their parent environment when they are returned. The following example illustrates the utility of this feature.\r\n",
    "\r\n",
    "Once many simple functions are defined, function composition is a natural method o*f combinati*on to include in our programming language. That is, given two function`s f(`x) an`d g(`x), we might want to defin`e h(x) = f(g(x`)). We can define function composition using our existing tools:"
   ]
  },
  {
   "cell_type": "code",
   "execution_count": null,
   "id": "3a27c2ec-4f30-4544-81ad-7f29a1b23239",
   "metadata": {},
   "outputs": [],
   "source": [
    "def square(x):\n",
    "    return x * x\n",
    "\n",
    "def successor(x):\n",
    "    return x + 1\n",
    "\n",
    "def compose1(f, g):\n",
    "    def h(x):\n",
    "        return f(g(x))\n",
    "    return h\n",
    "\n",
    "square_successor = compose1(square, successor)\n",
    "square_successor(12)"
   ]
  },
  {
   "cell_type": "markdown",
   "id": "63ee7f24-2f50-4aa1-88de-d86c5d33a7ca",
   "metadata": {},
   "source": [
    "The 1 in `compose1` is meant to signify that the composed functions all take a single argument. This naming convention is not enforced by the interpreter; the 1 is just part of the function name.\n",
    "\n",
    "At this point, we begin to observe the benefits of our effort to define precisely the environment model of computation. No modification to our environment model is required to explain our ability to return functions in this way."
   ]
  },
  {
   "cell_type": "markdown",
   "id": "76facdd6-6d37-4bab-bb13-491803062c59",
   "metadata": {},
   "source": [
    "## Currying\n",
    "\n",
    "We can use higher-order functions to convert a function that takes multiple arguments into a chain of functions that each take a single argument. More specifically, given a function `f(x, y)`, we can define a function `g` such that `g(x)(y)` is equivalent to `f(x, y)`. Here, `g` is a higher-order function that takes in a single argument `x` and returns another function that takes in a single argument `y`. This transformation is called **currying**.n:"
   ]
  },
  {
   "cell_type": "markdown",
   "id": "fbae3dcc-533a-4ba2-89b8-68147216de50",
   "metadata": {},
   "source": [
    "As an example, we can define a curried version of the `pow` function:"
   ]
  },
  {
   "cell_type": "code",
   "execution_count": null,
   "id": "e4a17be3-47fa-4b53-b1bc-5c46e6016878",
   "metadata": {},
   "outputs": [],
   "source": [
    "def curried_pow(x):\n",
    "    def h(y):\n",
    "        return pow(x, y)\n",
    "    return h"
   ]
  },
  {
   "cell_type": "code",
   "execution_count": null,
   "id": "d1f880a8-937d-4f3a-add2-037b0d874d89",
   "metadata": {},
   "outputs": [],
   "source": [
    "curried_pow(2)(3)"
   ]
  },
  {
   "cell_type": "markdown",
   "id": "1dc4137f-082a-4144-a500-e53f61a538cb",
   "metadata": {},
   "source": [
    "Some programming languages, such as Haskell, only allow functions that take a single argument, so the programmer must curry all multi-argument procedures. In more general languages such as Python, currying is useful when we require a function that takes in only a single argument. For example, the map pattern applies a single-argument function to a sequence of values. In later, we will see more general examples of the map pattern, but for now, we can implement the pattern in a function:"
   ]
  },
  {
   "cell_type": "code",
   "execution_count": null,
   "id": "023b96e8-c172-40c2-b68a-aa919344ec79",
   "metadata": {},
   "outputs": [],
   "source": [
    "def map_to_range(start, end, f):\n",
    "    while start < end:\n",
    "        print(f(start))\n",
    "        start = start + 1"
   ]
  },
  {
   "cell_type": "markdown",
   "id": "074c6455-5523-468d-80b1-94893055b369",
   "metadata": {},
   "source": [
    "We can use `map_to_range` and `curried_pow` to compute the first ten powers of two, rather than specifically writing a function to do so:"
   ]
  },
  {
   "cell_type": "code",
   "execution_count": null,
   "id": "44e67541-2de0-4ca1-8b9f-854b2039bee0",
   "metadata": {},
   "outputs": [],
   "source": [
    "map_to_range(0, 10, curried_pow(2))"
   ]
  },
  {
   "cell_type": "markdown",
   "id": "104ce897-1dea-422f-80b9-946b2c844b4f",
   "metadata": {},
   "source": [
    "We can similarly use the same two functions to compute powers of other numbers. Currying allows us to do so without writing a specific function for each number whose powers we wish to compute.\n",
    "\n",
    "In the above examples, we manually performed the currying transformation on the `pow` function to obtain `curried_pow`. Instead, we can define functions to automate currying, as well as the inverse **uncurrying** transformation:"
   ]
  },
  {
   "cell_type": "code",
   "execution_count": null,
   "id": "c5b2b962-bce0-4726-863f-243d4d5ef1b1",
   "metadata": {},
   "outputs": [],
   "source": [
    "def curry2(f):\n",
    "    \"\"\"Return a curried version of the given two-argument function.\"\"\"\n",
    "    def g(x):\n",
    "        def h(y):\n",
    "            return f(x, y)\n",
    "        return h\n",
    "    return g"
   ]
  },
  {
   "cell_type": "code",
   "execution_count": null,
   "id": "e3a8d9ac-b8d4-4d91-b0fe-e8e93e4cbf8b",
   "metadata": {},
   "outputs": [],
   "source": [
    "def uncurry2(g):\n",
    "    \"\"\"Return a two-argument version of the given curried function.\"\"\"\n",
    "    def f(x, y):\n",
    "        return g(x)(y)\n",
    "    return f"
   ]
  },
  {
   "cell_type": "code",
   "execution_count": null,
   "id": "8e46316b-d537-418c-9411-8ade6ab105ac",
   "metadata": {},
   "outputs": [],
   "source": [
    "pow_curried = curry2(pow)"
   ]
  },
  {
   "cell_type": "code",
   "execution_count": null,
   "id": "52c430d8-8ea7-4aee-81a0-80c35ad37d0d",
   "metadata": {},
   "outputs": [],
   "source": [
    "pow_curried(2)(5)"
   ]
  },
  {
   "cell_type": "code",
   "execution_count": null,
   "id": "ffec8986-9a8a-4add-aacf-fcc46b624240",
   "metadata": {},
   "outputs": [],
   "source": [
    "map_to_range(0, 10, pow_curried(2))"
   ]
  },
  {
   "cell_type": "markdown",
   "id": "102dbc04-054b-40f3-8f88-80d0ee520617",
   "metadata": {},
   "source": [
    "The `curry2` function takes in a two-argument function `f` and returns a single-argument function `g`. When `g` is applied to an argument `x`, it returns a single-argument function `h`. When `h` is applied to `y`, it calls `f(x, y)`. Thus, `curry2(f)(x)(y)` is equivalent to `f(x, y)`. The `uncurry2` function reverses the currying transformation, so that `uncurry2(curry2(f))` is equivalent to `f`."
   ]
  },
  {
   "cell_type": "code",
   "execution_count": null,
   "id": "c727e3a3-149d-427b-a682-baff0649bcac",
   "metadata": {},
   "outputs": [],
   "source": [
    "uncurry2(pow_curried)(2, 5)"
   ]
  },
  {
   "cell_type": "code",
   "execution_count": null,
   "id": "80a39e9d-f018-4807-b7e8-7a2f90268d12",
   "metadata": {},
   "outputs": [],
   "source": []
  }
 ],
 "metadata": {
  "kernelspec": {
   "display_name": "Python 3 (ipykernel)",
   "language": "python",
   "name": "python3"
  },
  "language_info": {
   "codemirror_mode": {
    "name": "ipython",
    "version": 3
   },
   "file_extension": ".py",
   "mimetype": "text/x-python",
   "name": "python",
   "nbconvert_exporter": "python",
   "pygments_lexer": "ipython3",
   "version": "3.9.16"
  }
 },
 "nbformat": 4,
 "nbformat_minor": 5
}
