{
 "cells": [
  {
   "cell_type": "markdown",
   "id": "9fe39dad-a905-49c0-8a69-a2c079681f22",
   "metadata": {},
   "source": [
    "# Recursive Functions\n",
    "\n",
    "A function is called *recursive* if the body of the function calls the function itself, either directly or indirectly. That is, the process of executing the body of a recursive function may in turn require applying that function again. Recursive functions do not use any special syntax in Python, but they do require some effort to understand and create.\r\n",
    "\r\n",
    "We'll begin with an example problem: write a function that sums the digits of a natural number. When designing recursive functions, we look for ways in which a problem can be broken down into simpler problems. In this case, the operators % and // can be used to separate a number into two parts: its last digit and all but its last digit."
   ]
  },
  {
   "cell_type": "code",
   "execution_count": null,
   "id": "14caa183-2da3-487c-8416-5eca51c8e49d",
   "metadata": {},
   "outputs": [],
   "source": [
    "18117 % 10"
   ]
  },
  {
   "cell_type": "code",
   "execution_count": null,
   "id": "6aa57b98-7bad-43de-894e-179b031629e7",
   "metadata": {},
   "outputs": [],
   "source": [
    "18117 // 10"
   ]
  },
  {
   "cell_type": "markdown",
   "id": "4c50d1ac-f301-4bf1-a8d5-766f357ddca7",
   "metadata": {},
   "source": [
    "The sum of the digits of 18117 is 1+8+1+1+7 = 18. Just as we can separate the number, we can separate this sum into the last digit, 7, and the sum of all but the last digit, 1+8+1+1 = 11. This separation gives us an algorithm: to sum the digits of a number n, add its last digit `n % 10` to the sum of the digits of `n // 10`. There's one special case: if a number has only one digit, then the sum of its digits is itself. This algorithm can be implemented as a recursive function."
   ]
  },
  {
   "cell_type": "code",
   "execution_count": null,
   "id": "d4411189-daca-460e-b9e8-90f8e6d50092",
   "metadata": {},
   "outputs": [],
   "source": [
    "def sum_digits(n):\n",
    "    \"\"\"Return the sum of the digits of positive integer n.\"\"\"\n",
    "    if n < 10:\n",
    "        return n\n",
    "    else:\n",
    "        all_but_last, last = n // 10, n % 10\n",
    "        return sum_digits(all_but_last) + last"
   ]
  },
  {
   "cell_type": "markdown",
   "id": "c3671fcb-0e30-47d1-b862-f77301ffac3e",
   "metadata": {},
   "source": [
    "This definition of `sum_digits` is both complete and correct, even though the sum_digits function is called within its own body. The problem of summing the digits of a number is broken down into two steps: summing all but the last digit, then adding the last digit. Both of these steps are simpler than the original problem. The function is recursive because the first step is the same kind of problem as the original problem. That is, sum_digits is exactly the function we need in order to implement sum_digits."
   ]
  },
  {
   "cell_type": "code",
   "execution_count": null,
   "id": "dd2f470e-6809-4f1e-8ef5-a85442b70dec",
   "metadata": {},
   "outputs": [],
   "source": [
    "sum_digits(9)"
   ]
  },
  {
   "cell_type": "code",
   "execution_count": null,
   "id": "73914682-84b4-4e55-806d-64c925c48c85",
   "metadata": {},
   "outputs": [],
   "source": [
    "sum_digits(18117)"
   ]
  },
  {
   "cell_type": "code",
   "execution_count": null,
   "id": "e3d703e6-5f22-45ac-8720-fa5b31d166c1",
   "metadata": {},
   "outputs": [],
   "source": [
    "sum_digits(11408855402054064613470328848384)"
   ]
  },
  {
   "cell_type": "markdown",
   "id": "a4c7c64e-87a0-40fd-8742-90d31246c1b7",
   "metadata": {},
   "source": [
    "Take a look at `sum_digits` is called on 738:"
   ]
  },
  {
   "cell_type": "code",
   "execution_count": null,
   "id": "055bfe31-6747-4a0f-beb4-9ac5a74b4839",
   "metadata": {},
   "outputs": [],
   "source": [
    "sum_digits(738)"
   ]
  },
  {
   "cell_type": "markdown",
   "id": "83c67717-ef97-4d81-88a3-b4c329f7671c",
   "metadata": {},
   "source": [
    "1. A local frame for sum_digits with n bound to 738 is created, and the body of sum_digits is executed in the environment that starts with that frame.\n",
    "2. Since 738 is not less than 10, the assignment statement on line 4 is executed, splitting 738 into 73 and 8.\n",
    "3. In the following return statement, sum_digits is called on 73, the value of all_but_last in the current environment.\n",
    "4. Another local frame for sum_digits is created, this time with n bound to 73. The body of sum_digits is again executed in the new environment that starts with this frame.\n",
    "5. Since 73 is also not less than 10, 73 is split into 7 and 3 and sum_digits is called on 7, the value of all_but_last evaluated in this frame.\n",
    "6. A third local frame for sum_digits is created, with n bound to 7.\n",
    "7. In the environment starting with this frame, it is true that n < 10, and therefore 7 is returned.\n",
    "8. In the second local frame, this return value 7 is summed with 3, the value of last, to return 10.\n",
    "9. In the first local frame, this return value 10 is summed with 8, the value of last, to return 18."
   ]
  },
  {
   "cell_type": "markdown",
   "id": "20571658-d829-4606-a6b9-66f6175ed273",
   "metadata": {},
   "source": [
    "This recursive function applies correctly, despite its circular character, because it is applied twice, but with a different argument each time. Moreover, the second application was a simpler instance of the digit summing problem than the first. Generate the environment diagram for the call sum_digits(18117) to see that each successive call to sum_digits takes a smaller argument than the last, until eventually a single-digit input is reached.\n",
    "\n",
    "This example also illustrates how functions with simple bodies can evolve complex computational processes by using recursion."
   ]
  },
  {
   "cell_type": "markdown",
   "id": "073cb362-3faa-49c4-89fd-3b4ef32e7094",
   "metadata": {},
   "source": [
    "## The Anatomy of Recursive Functions\n",
    "\n",
    "A common pattern can be found in the body of many recursive functions. The body begins with a base case, a conditional statement that defines the behavior of the function for the inputs that are simplest to process. In the case of sum_digits, the base case is any single-digit argument, and we simply return that argument. Some recursive functions will have multiple base cases.\n",
    "\n",
    "The base cases are then followed by one or more recursive calls. Recursive calls always have a certain character: they simplify the original problem. Recursive functions express computation by simplifying problems incrementally. For example, summing the digits of 7 is simpler than summing the digits of 73, which in turn is simpler than summing the digits of 738. For each subsequent call, there is less work left to be done.\n",
    "\n",
    "Recursive functions often solve problems in a different way than the iterative approaches that we have used previously. Consider a function fact to compute n factorial, where for example `fact(4)` computes $4!=4*3*2*1=24$."
   ]
  },
  {
   "cell_type": "markdown",
   "id": "da2c7743-43dc-407c-b683-9d92f80d8a95",
   "metadata": {},
   "source": [
    "A natural implementation using a while statement accumulates the total by multiplying together each positive integer up to n."
   ]
  },
  {
   "cell_type": "code",
   "execution_count": null,
   "id": "f2a13270-bfc1-4615-bbf8-f9719c511638",
   "metadata": {},
   "outputs": [],
   "source": [
    "def fact_iter(n):\n",
    "    total, k = 1, 1\n",
    "    while k <= n:\n",
    "        total, k = total * k, k + 1\n",
    "    return total"
   ]
  },
  {
   "cell_type": "code",
   "execution_count": null,
   "id": "6175866e-5e85-48b0-a506-94fda561e0ed",
   "metadata": {},
   "outputs": [],
   "source": [
    "fact_iter(4)"
   ]
  },
  {
   "cell_type": "markdown",
   "id": "b50fa843-c190-4896-a1a2-bbdd30acdc25",
   "metadata": {},
   "source": [
    "On the other hand, a recursive implementation of factorial can express fact(n) in terms of fact(n-1), a simpler problem. The base case of the recursion is the simplest form of the problem: fact(1) is 1."
   ]
  },
  {
   "cell_type": "code",
   "execution_count": null,
   "id": "110b31be-efa1-4882-a7fe-76a38a700bdc",
   "metadata": {},
   "outputs": [],
   "source": [
    "def fact(n):\n",
    "    if n == 1:\n",
    "        return 1\n",
    "    else:\n",
    "        return n * fact(n-1)"
   ]
  },
  {
   "cell_type": "code",
   "execution_count": null,
   "id": "5f502c24-0575-4362-a3b3-706d15be0235",
   "metadata": {},
   "outputs": [],
   "source": [
    "fact(4)"
   ]
  },
  {
   "cell_type": "markdown",
   "id": "605a451a-5c29-4659-95b8-da0569394f0c",
   "metadata": {},
   "source": [
    "These two factorial functions differ conceptually. The iterative function constructs the result from the base case of 1 to the final total by successively multiplying in each term. The recursive function, on the other hand, constructs the result directly from the final term, n, and the result of the simpler problem, fact(n-1).\r\n",
    "\r\n",
    "As the recursion \"unwinds\" through successive applications of the fact function to simpler and simpler problem instances, the result is eventually built starting from the base case. The recursion ends by passing the argument 1 to fact; the result of each call depends on the next until the base case is reache\n",
    "\n",
    "Recursive functions leverage the rules of evaluating call expressions to bind names to values, often avoiding the nuisance of correctly assigning local names during iteration. For this reason, recursive functions can be easier to define correctly. However, learning to recognize the computational processes evolved by recursive functions certainly requires practice.d."
   ]
  },
  {
   "cell_type": "markdown",
   "id": "e6dfc56c-89dd-4b28-a4d6-877138168fa5",
   "metadata": {},
   "source": [
    "## Mutual Recursion\n",
    "\n",
    "When a recursive procedure is divided among two functions that call each other, the functions are said to be mutually recursive. As an example, consider the following definition of even and odd for non-negative integers:\n",
    "\n",
    "- a number is even if it is one more than an odd number\n",
    "- a number is odd if it is one more than an even number\n",
    "- 0 is even\n",
    "\n",
    "Using this definition, we can implement mutually recursive functions to determine whether a number is even or odd:"
   ]
  },
  {
   "cell_type": "code",
   "execution_count": null,
   "id": "4362da08-7c61-41f4-b6b5-bb7555a57d36",
   "metadata": {},
   "outputs": [],
   "source": [
    "def is_even(n):\n",
    "    if n == 0:\n",
    "        return True\n",
    "    else:\n",
    "        return is_odd(n-1)\n",
    "\n",
    "def is_odd(n):\n",
    "    if n == 0:\n",
    "        return False\n",
    "    else:\n",
    "        return is_even(n-1)"
   ]
  },
  {
   "cell_type": "code",
   "execution_count": null,
   "id": "4ba68752-c2c8-465f-a950-3a6c1b226536",
   "metadata": {},
   "outputs": [],
   "source": [
    "is_even(4)"
   ]
  },
  {
   "cell_type": "markdown",
   "id": "6d036c9a-9779-415f-a57b-641256d8f98b",
   "metadata": {},
   "source": [
    "Mutually recursive functions can be turned into a single recursive function by breaking the abstraction boundary between the two functions. In this example, the body of is_odd can be incorporated into that of is_even, making sure to replace n with n-1 in the body of is_odd to reflect the argument passed into it:"
   ]
  },
  {
   "cell_type": "code",
   "execution_count": null,
   "id": "65c5fca0-942c-41e5-99ee-30f5f0f7c105",
   "metadata": {},
   "outputs": [],
   "source": [
    "def is_even(n):\n",
    "    if n == 0:\n",
    "        return True\n",
    "    else:\n",
    "        if (n-1) == 0:\n",
    "            return False\n",
    "        else:\n",
    "            return is_even((n-1)-1)"
   ]
  },
  {
   "cell_type": "code",
   "execution_count": null,
   "id": "521e24f1-8468-4c9a-941b-06599b148902",
   "metadata": {},
   "outputs": [],
   "source": [
    "is_even(4)"
   ]
  },
  {
   "cell_type": "code",
   "execution_count": null,
   "id": "0743e806-7a4b-4a73-864b-505f900c5f1c",
   "metadata": {},
   "outputs": [],
   "source": [
    "is_even(5)"
   ]
  },
  {
   "cell_type": "markdown",
   "id": "ab42bbdb-3b30-424c-8ab9-feb890b4e589",
   "metadata": {},
   "source": [
    "As such, mutual recursion is no more mysterious or powerful than simple recursion, and it provides a mechanism for maintaining abstraction within a complicated recursive program."
   ]
  },
  {
   "cell_type": "markdown",
   "id": "784a9c40-6ca5-4aa7-81eb-8225d9700ed7",
   "metadata": {},
   "source": [
    "## Printing in Recursive Functions\n",
    "\n",
    "The computational process evolved by a recursive function can often be visualized using calls to print. As an example, we will implement a function cascade that prints all prefixes of a number from largest to smallest to largest."
   ]
  },
  {
   "cell_type": "code",
   "execution_count": null,
   "id": "53368419-6679-4129-a4f4-6111ac1470e3",
   "metadata": {},
   "outputs": [],
   "source": [
    "def cascade(n):\n",
    "    \"\"\"Print a cascade of prefixes of n.\"\"\"\n",
    "    if n < 10:\n",
    "        print(n)\n",
    "    else:\n",
    "        print(n)\n",
    "        cascade(n//10)\n",
    "        print(n)"
   ]
  },
  {
   "cell_type": "code",
   "execution_count": null,
   "id": "a91bde97-1324-48c5-acf6-d482b8d51343",
   "metadata": {},
   "outputs": [],
   "source": [
    "cascade(2013)"
   ]
  },
  {
   "cell_type": "markdown",
   "id": "e7e64591-6046-475b-8127-8eff924941a8",
   "metadata": {},
   "source": [
    "In this recursive function, the base case is a single-digit number, which is printed. Otherwise, a recursive call is placed between two calls to print.\n",
    "\n",
    "As another example of mutual recursion, consider a two-player game in which there are n initial pebbles on a table. The players take turns, removing either one or two pebbles from the table, and the player who removes the final pebble wins. Suppose that Alice and Bob play this game, each using a simple strategy:\r\n",
    "\r\n",
    "- Alice always removes a single pebble\r\n",
    "- Bob removes two pebbles if an even number of pebbles is on the table, and one otherwise\r\n",
    "\r\n",
    "Given n initial pebbles and Alice starting, who wins the game?\r\n",
    "\r\n",
    "A natural decomposition of this problem is to encapsulate each strategy in its own function. This allows us to modify one strategy without affecting the other, maintaining the abstraction barrier between the two. In order to incorporate the turn-by-turn nature of the game, these two functions call each other at the end of each turn."
   ]
  },
  {
   "cell_type": "code",
   "execution_count": null,
   "id": "186d5590-5539-4f0c-83d6-8914d2de3840",
   "metadata": {},
   "outputs": [],
   "source": [
    "def play_alice(n):\n",
    "    if n == 0:\n",
    "        print(\"Bob wins!\")\n",
    "    else:\n",
    "        play_bob(n-1)\n",
    "\n",
    "def play_bob(n):\n",
    "    if n == 0:\n",
    "        print(\"Alice wins!\")\n",
    "    elif is_even(n):\n",
    "        play_alice(n-2)\n",
    "    else:\n",
    "        play_alice(n-1)"
   ]
  },
  {
   "cell_type": "code",
   "execution_count": null,
   "id": "c30cf37d-261c-4859-8f38-b22b1a9803bc",
   "metadata": {},
   "outputs": [],
   "source": [
    "play_alice(20)"
   ]
  },
  {
   "cell_type": "markdown",
   "id": "bef76213-bfbe-44f2-b26e-53a5dd8bfce3",
   "metadata": {},
   "source": [
    "In play_bob, we see that multiple recursive calls may appear in the body of a function. However, in this example, each call to play_bob calls play_alice at most once. In the next section, we consider what happens when a single function call makes multiple direct recursive calls."
   ]
  },
  {
   "cell_type": "markdown",
   "id": "f501c730-035a-4b6d-bda6-1208a0c09dd4",
   "metadata": {},
   "source": [
    "## Tree Recursion\n",
    "\n",
    "Another common pattern of computation is called tree recursion, in which a function calls itself more than once. As an example, consider computing the sequence of Fibonacci numbers, in which each number is the sum of the preceding two."
   ]
  },
  {
   "cell_type": "code",
   "execution_count": null,
   "id": "da0b4848-5e70-419b-8d00-f5b902ec5cc1",
   "metadata": {},
   "outputs": [],
   "source": [
    "def fib(n):\n",
    "    if n == 1:\n",
    "        return 0\n",
    "    if n == 2:\n",
    "        return 1\n",
    "    else:\n",
    "        return fib(n-2) + fib(n-1)"
   ]
  },
  {
   "cell_type": "code",
   "execution_count": null,
   "id": "f2dc8a49-723d-4ff2-bc2e-4753874bff4a",
   "metadata": {},
   "outputs": [],
   "source": [
    "fib(6)"
   ]
  },
  {
   "cell_type": "markdown",
   "id": "98d4ff87-6fd7-4317-bff8-033bd84fc320",
   "metadata": {},
   "source": [
    "This recursive definition is tremendously appealing relative to our previous attempts: it exactly mirrors the familiar definition of Fibonacci numbers. A function with multiple recursive calls is said to be tree recursive because each call branches into multiple smaller calls, each of which branches into yet smaller calls, just as the branches of a tree become smaller but more numerous as they extend from the trunk.\r\n",
    "\r\n",
    "We were already able to define a function to compute Fibonacci numbers without tree recursion. In fact, our previous attempts were more efficient, a topic discussed later in the text. Next, we consider a problem for which the tree recursive solution is substantially simpler than any iterative alternative."
   ]
  },
  {
   "cell_type": "code",
   "execution_count": null,
   "id": "d4cc7673-1ed2-469d-800f-0d7f8583956b",
   "metadata": {},
   "outputs": [],
   "source": []
  }
 ],
 "metadata": {
  "kernelspec": {
   "display_name": "Python 3 (ipykernel)",
   "language": "python",
   "name": "python3"
  },
  "language_info": {
   "codemirror_mode": {
    "name": "ipython",
    "version": 3
   },
   "file_extension": ".py",
   "mimetype": "text/x-python",
   "name": "python",
   "nbconvert_exporter": "python",
   "pygments_lexer": "ipython3",
   "version": "3.9.16"
  }
 },
 "nbformat": 4,
 "nbformat_minor": 5
}
