{
 "cells": [
  {
   "cell_type": "markdown",
   "metadata": {},
   "source": [
    "# Project - MathJSON\n",
    "\n",
    "Write a Python program that reads in a MathJSON expression from a file, evaluates it using functional programming techniques, and outputs the result to the console.\n",
    "\n",
    "MathJSON is a JSON-based format for representing mathematical expressions. It is designed to be easy to read and write, and to be easy to parse and evaluate. It is also designed to be easy to extend with new types of mathematical objects.\n",
    "\n",
    "Read about MathJSON here: https://cortexjs.io/math-json/\n",
    "\n",
    "Now we assume that we have MathJSON like this:\n",
    "\n",
    "```json\n",
    "{\n",
    "    \"parameters\": {\n",
    "        \"x\": {\n",
    "            \"parameters\": {\n",
    "                \"a\": 1,\n",
    "                \"b\": 2\n",
    "            },\n",
    "            \"expression\": [\"Sqrt\", \"a\", \"b\"]\n",
    "        },\n",
    "        \"y\": 3\n",
    "    },\n",
    "    \"expression\": [\"Add\", \"x\", \"y\", 4]\n",
    "}\n",
    "```\n",
    "\n",
    "where the `expression` is the expression to be evaluated, and the `parameters` key is the dictionary of parameters. Each parameter is also a recursive MathJSON object, which can be evaluated to a number. To be simple, we assume that the `expression` is one of the following: Sum (alias Add), Subtract, Multiply, Divide, Negate, Power, Root, Sqrt,Square, Exp, Log, Log2, Log10, Max, Min, Average, Median.\n",
    "\n",
    "\n",
    "The program should take the following steps:\n",
    "\n",
    "1. Read in a MathJSON expression from a dict. The file should contain a single MathJSON object, which represents a mathematical expression. You can assume that the file is well-formed and contains a valid MathJSON object.\n",
    "2. Parse the MathJSON object into a Python data structure. You can use any JSON parsing library you like, but make sure that the resulting data structure is easy to work with and contains all the necessary information to evaluate the expression.\n",
    "3. Define a set of functions that can evaluate the different types of MathJSON objects. For example, you might define a function that evaluates a MathJSON number, another function that evaluates a MathJSON operator, and so on. Each function should take the relevant MathJSON object as input and return the result of evaluating it.\n",
    "4. Define a function that recursively evaluates a MathJSON expression. This function should take the parsed MathJSON data structure as input and use the previously defined functions to evaluate each part of the expression. The function should return the final result of the expression.\n",
    "\n",
    "Call the evaluation function on the parsed MathJSON data structure and output the result to the console.\n",
    "\n",
    "You should also make use of lambda and higher-order functions, such as map, filter, and reduce, to simplify your code and make it more expressive."
   ]
  },
  {
   "cell_type": "code",
   "execution_count": null,
   "metadata": {},
   "outputs": [],
   "source": []
  }
 ],
 "metadata": {
  "kernelspec": {
   "display_name": "ai",
   "language": "python",
   "name": "python3"
  },
  "language_info": {
   "codemirror_mode": {
    "name": "ipython",
    "version": 3
   },
   "file_extension": ".py",
   "mimetype": "text/x-python",
   "name": "python",
   "nbconvert_exporter": "python",
   "pygments_lexer": "ipython3",
   "version": "3.9.16"
  },
  "orig_nbformat": 4
 },
 "nbformat": 4,
 "nbformat_minor": 2
}
