{
 "cells": [
  {
   "cell_type": "markdown",
   "metadata": {},
   "source": [
    "## Question 1\n",
    "Write a decorator function that logs the execution time of a function. The decorator should print the execution time in seconds after the function has completed.\n",
    "\n",
    "In this question, we define a decorator function `timer` that takes a function `func` as an argument. The decorator function defines a nested function wrapper that calls the original function func and measures the execution time using the time module. The execution time is printed to the console after the function has completed. Finally, the decorator function returns the wrapper function.\n",
    "\n",
    "We then apply the `timer` decorator to the my_function function using the @ syntax. When we call my_function, the decorator function is applied automatically, and the execution time is printed to the console."
   ]
  },
  {
   "cell_type": "code",
   "execution_count": null,
   "metadata": {},
   "outputs": [],
   "source": [
    "import time\n",
    "\n",
    "def timer(func):\n",
    "    def wrapper(*args, **kwargs):\n",
    "        # Your code here\n",
    "        return func(*args, **kwargs)\n",
    "    return wrapper\n",
    "\n",
    "@timer\n",
    "def my_function():\n",
    "    time.sleep(2)\n",
    "    print(\"Function completed\")\n",
    "\n",
    "my_function()"
   ]
  },
  {
   "cell_type": "markdown",
   "metadata": {},
   "source": [
    "## Question 2\n",
    "\n",
    "Write a decorator function that validates the arguments of a function. The decorator should accept a list of argument names and types, and raise an exception if any of the arguments have the wrong type.\n",
    "\n",
    "In this question, we define a decorator function `validate_args` that takes a list of argument names and types as arguments. The decorator function defines a nested function wrapper that calls the original function func and validates the arguments using the isinstance function. If any of the arguments have the wrong type, an exception is raised. Finally, the decorator function returns the wrapper function.\n"
   ]
  },
  {
   "cell_type": "code",
   "execution_count": null,
   "metadata": {},
   "outputs": [],
   "source": [
    "def validate_args(arg_types):\n",
    "    def decorator(func):\n",
    "        def wrapper(*args, **kwargs):\n",
    "            return func(*args, **kwargs)\n",
    "        return wrapper\n",
    "    return decorator\n",
    "\n",
    "@validate_args([('x', int), ('y', int)])\n",
    "def my_function(x, y):\n",
    "    return x + y\n"
   ]
  },
  {
   "cell_type": "code",
   "execution_count": null,
   "metadata": {},
   "outputs": [],
   "source": [
    "my_function(1, 2) # 3"
   ]
  },
  {
   "cell_type": "code",
   "execution_count": null,
   "metadata": {},
   "outputs": [],
   "source": [
    "my_function(1, \"a\") # TypeError: Argument y should be of type int"
   ]
  },
  {
   "cell_type": "code",
   "execution_count": null,
   "metadata": {},
   "outputs": [],
   "source": []
  }
 ],
 "metadata": {
  "kernelspec": {
   "display_name": "ai",
   "language": "python",
   "name": "python3"
  },
  "language_info": {
   "codemirror_mode": {
    "name": "ipython",
    "version": 3
   },
   "file_extension": ".py",
   "mimetype": "text/x-python",
   "name": "python",
   "nbconvert_exporter": "python",
   "pygments_lexer": "ipython3",
   "version": "3.9.16"
  },
  "orig_nbformat": 4
 },
 "nbformat": 4,
 "nbformat_minor": 2
}
