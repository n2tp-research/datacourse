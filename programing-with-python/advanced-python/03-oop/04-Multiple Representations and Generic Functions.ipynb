{
 "cells": [
  {
   "cell_type": "markdown",
   "metadata": {},
   "source": [
    "## Multiple Representations\n",
    "\n",
    "Abstraction barriers allow us to separate the use and representation of data. However, in large programs, it may not always make sense to speak of \"the underlying representation\" for a data type in a program. For one thing, there might be more than one useful representation for a data object, and we might like to design systems that can deal with multiple representations.\n",
    "\n",
    "To take a simple example, complex numbers may be represented in two almost equivalent ways: in rectangular form (real and imaginary parts) and in polar form (magnitude and angle). Sometimes the rectangular form is more appropriate and sometimes the polar form is more appropriate. Indeed, it is perfectly plausible to imagine a system in which complex numbers are represented in both ways, and in which the functions for manipulating complex numbers work with either representation. We implement such a system below. As a side note, we are developing a system that performs arithmetic operations on complex numbers as a simple but unrealistic example of a program that uses generic operations. A complex number type is actually built into Python, but for this example we will implement our own.\n",
    "\n",
    "The idea of allowing for multiple representations of data arises regularly. Large software systems are often designed by many people working over extended periods of time, subject to requirements that change over time. In such an environment, it is simply not possible for everyone to agree in advance on choices of data representation. In addition to the data-abstraction barriers that isolate representation from use, we need abstraction barriers that isolate different design choices from each other and permit different choices to coexist in a single program.\n",
    "\n",
    "We will begin our implementation at the highest level of abstraction and work towards concrete representations. A `Complex` number is a `Number`, and numbers can be added or multiplied together. How numbers can be added or multiplied is abstracted by the method names `add` and `mul`.\n"
   ]
  },
  {
   "cell_type": "code",
   "execution_count": null,
   "metadata": {},
   "outputs": [],
   "source": [
    "class Number:\n",
    "    def __add__(self, other):\n",
    "        return self.add(other)\n",
    "\n",
    "    def __mul__(self, other):\n",
    "        return self.mul(other)"
   ]
  },
  {
   "cell_type": "markdown",
   "metadata": {},
   "source": [
    "This class requires that `Number` objects have `add` and `mul` methods, but does not define them. Moreover, it does not have an `__init__` method. The purpose of `Number` is not to be instantiated directly, but instead to serve as a superclass of various specific number classes. Our next task is to define add and mul appropriately for complex numbers.\n",
    "\n",
    "A complex number can be thought of as a point in two-dimensional space with two orthogonal axes, the real axis and the imaginary axis. From this perspective, the complex number c = real + imag _ i (where i _ i = -1) can be thought of as the point in the plane whose horizontal coordinate is real and whose vertical coordinate is imag. Adding complex numbers involves adding their respective real and imag coordinates.\n",
    "\n",
    "When multiplying complex numbers, it is more natural to think in terms of representing a complex number in polar form, as a magnitude and an angle. The product of two complex numbers is the vector obtained by stretching one complex number by a factor of the length of the other, and then rotating it through the angle of the other.\n",
    "\n",
    "The `Complex` class inherits from `Number` and describes arithmetic for complex numbers.\n"
   ]
  },
  {
   "cell_type": "code",
   "execution_count": null,
   "metadata": {},
   "outputs": [],
   "source": [
    "class Complex(Number):\n",
    "    def __init__(self):\n",
    "        self.type_tag = \"com\"\n",
    "        \n",
    "    def add(self, other):\n",
    "        return ComplexRI(self.real + other.real, self.imag + other.imag)\n",
    "\n",
    "    def mul(self, other):\n",
    "        magnitude = self.magnitude * other.magnitude\n",
    "        return ComplexMA(magnitude, self.angle + other.angle)"
   ]
  },
  {
   "cell_type": "markdown",
   "metadata": {},
   "source": [
    "This implementation assumes that two classes exist for complex numbers, corresponding to their two natural representations:\n",
    "\n",
    "- `ComplexRI` constructs a complex number from real and imaginary parts.\n",
    "- `ComplexMA` constructs a complex number from a magnitude and angle.\n",
    "\n",
    "**Interfaces.** Object attributes, which are a form of message passing, allows different data types to respond to the same message in different ways. A shared set of messages that elicit similar behavior from different classes is a powerful method of abstraction. An interface is a set of shared attribute names, along with a specification of their behavior. In the case of complex numbers, the interface needed to implement arithmetic consists of four attributes: `real, imag, magnitude, and angle`.\n",
    "\n",
    "For complex arithmetic to be correct, these attributes must be consistent. That is, the rectangular coordinates (`real`, `imag`) and the polar coordinates (`magnitude`, `angle`) must describe the same point on the complex plane. The Complex class implicitly defines this interface by determining how these attributes are used to add and mul complex numbers.\n",
    "\n",
    "**Properties.** The requirement that two or more attribute values maintain a fixed relationship with each other is a new problem. One solution is to store attribute values for only one representation and compute the other representation whenever it is needed.\n",
    "\n",
    "Python has a simple feature for computing attributes on the fly from zero-argument functions. The @property decorator allows functions to be called without call expression syntax (parentheses following an expression). The ComplexRI class stores real and imag attributes and computes magnitude and angle on demand.\n"
   ]
  },
  {
   "cell_type": "code",
   "execution_count": null,
   "metadata": {},
   "outputs": [],
   "source": [
    "from math import atan2\n",
    "\n",
    "\n",
    "class ComplexRI(Complex):\n",
    "    def __init__(self, real, imag):\n",
    "        super().__init__()\n",
    "        self.real = real\n",
    "        self.imag = imag\n",
    "\n",
    "    @property\n",
    "    def magnitude(self):\n",
    "        return (self.real**2 + self.imag**2) ** 0.5\n",
    "\n",
    "    @property\n",
    "    def angle(self):\n",
    "        return atan2(self.imag, self.real)\n",
    "\n",
    "    def __repr__(self):\n",
    "        return \"ComplexRI({0:g}, {1:g})\".format(self.real, self.imag)"
   ]
  },
  {
   "cell_type": "markdown",
   "metadata": {},
   "source": [
    "As a result of this implementation, all four attributes needed for complex arithmetic can be accessed without any call expressions, and changes to `real` or `imag` are reflected in the `magnitude` and `angle`.\n"
   ]
  },
  {
   "cell_type": "markdown",
   "metadata": {},
   "source": [
    "Similarly, the `ComplexMA` class stores `magnitude` and `angle`, but computes `real` and `imag` whenever those attributes are looked up.\n"
   ]
  },
  {
   "cell_type": "code",
   "execution_count": null,
   "metadata": {},
   "outputs": [],
   "source": [
    "from math import sin, cos, pi\n",
    "\n",
    "\n",
    "class ComplexMA(Complex):\n",
    "    def __init__(self, magnitude, angle):\n",
    "        super().__init__()\n",
    "        self.magnitude = magnitude\n",
    "        self.angle = angle\n",
    "\n",
    "    @property\n",
    "    def real(self):\n",
    "        return self.magnitude * cos(self.angle)\n",
    "\n",
    "    @property\n",
    "    def imag(self):\n",
    "        return self.magnitude * sin(self.angle)\n",
    "\n",
    "    def __repr__(self):\n",
    "        return \"ComplexMA({0:g}, {1:g} * pi)\".format(self.magnitude, self.angle / pi)"
   ]
  },
  {
   "cell_type": "code",
   "execution_count": null,
   "metadata": {},
   "outputs": [],
   "source": [
    "ri = ComplexRI(5, 12)"
   ]
  },
  {
   "cell_type": "code",
   "execution_count": null,
   "metadata": {},
   "outputs": [],
   "source": [
    "ri.real"
   ]
  },
  {
   "cell_type": "code",
   "execution_count": null,
   "metadata": {},
   "outputs": [],
   "source": [
    "ri.magnitude"
   ]
  },
  {
   "cell_type": "code",
   "execution_count": null,
   "metadata": {},
   "outputs": [],
   "source": [
    "ri.real = 9"
   ]
  },
  {
   "cell_type": "code",
   "execution_count": null,
   "metadata": {},
   "outputs": [],
   "source": [
    "ri.real"
   ]
  },
  {
   "cell_type": "code",
   "execution_count": null,
   "metadata": {},
   "outputs": [],
   "source": [
    "ri.magnitude"
   ]
  },
  {
   "cell_type": "code",
   "execution_count": null,
   "metadata": {},
   "outputs": [],
   "source": [
    "ma = ComplexMA(2, pi / 2)"
   ]
  },
  {
   "cell_type": "code",
   "execution_count": null,
   "metadata": {},
   "outputs": [],
   "source": [
    "ma.imag"
   ]
  },
  {
   "cell_type": "code",
   "execution_count": null,
   "metadata": {},
   "outputs": [],
   "source": [
    "ma.angle = pi"
   ]
  },
  {
   "cell_type": "code",
   "execution_count": null,
   "metadata": {},
   "outputs": [],
   "source": [
    "ma.real"
   ]
  },
  {
   "cell_type": "markdown",
   "metadata": {},
   "source": [
    "Our implementation of complex numbers is now complete. Either class implementing complex numbers can be used for either argument in either arithmetic function in Complex.\n"
   ]
  },
  {
   "cell_type": "code",
   "execution_count": null,
   "metadata": {},
   "outputs": [],
   "source": [
    "ComplexRI(1, 2) + ComplexMA(2, pi / 2)"
   ]
  },
  {
   "cell_type": "code",
   "execution_count": null,
   "metadata": {},
   "outputs": [],
   "source": [
    "ComplexRI(0, 1) * ComplexRI(0, 1)"
   ]
  },
  {
   "cell_type": "markdown",
   "metadata": {},
   "source": [
    "The interface approach to encoding multiple representations has appealing properties. The class for each representation can be developed separately; they must only agree on the names of the attributes they share, as well as any behavior conditions for those attributes. The interface is also additive. If another programmer wanted to add a third representation of complex numbers to the same program, they would only have to create another class with the same attributes.\n",
    "\n",
    "Multiple representations of data are closely related to the idea of data abstraction with which we began this chapter. Using data abstraction, we were able to change the implementation of a data type without changing the meaning of the program. With interfaces and message passing, we can have multiple different representations within the same program. In both cases, a set of names and corresponding behavior conditions define the abstraction that enables this flexibility.\n",
    "\n",
    "## Generic Functions\n",
    "\n",
    "Generic functions are methods or functions that apply to arguments of different types. We have seen many examples already. The Complex.add method is generic, because it can take either a ComplexRI or ComplexMA as the value for other. This flexibility was gained by ensuring that both ComplexRI and ComplexMA share an interface. Using interfaces and message passing is only one of several methods used to implement generic functions. We will consider two others in this section: type dispatching and type coercion.\n",
    "\n",
    "Suppose that, in addition to our complex number classes, we implement a `Rational` class to represent fractions exactly. The `add` and `mul` methods express the same computations as the `add_rational` and `mul_rational` functions from earlier in the chapter.\n"
   ]
  },
  {
   "cell_type": "code",
   "execution_count": null,
   "metadata": {},
   "outputs": [],
   "source": [
    "from math import gcd\n",
    "\n",
    "\n",
    "class Rational(Number):\n",
    "    def __init__(self, numer, denom):\n",
    "        g = gcd(numer, denom)\n",
    "        self.numer = numer // g\n",
    "        self.denom = denom // g\n",
    "        self.type_tag = \"rat\"\n",
    "\n",
    "    def __repr__(self):\n",
    "        return \"Rational({0}, {1})\".format(self.numer, self.denom)\n",
    "\n",
    "    def add(self, other):\n",
    "        nx, dx = self.numer, self.denom\n",
    "        ny, dy = other.numer, other.denom\n",
    "        return Rational(nx * dy + ny * dx, dx * dy)\n",
    "\n",
    "    def mul(self, other):\n",
    "        numer = self.numer * other.numer\n",
    "        denom = self.denom * other.denom\n",
    "        return Rational(numer, denom)"
   ]
  },
  {
   "cell_type": "markdown",
   "metadata": {},
   "source": [
    "We have implemented the interface of the `Number` superclass by including `add` and `mul` methods. As a result, we can add and multiply rational numbers using familiar operators.\n"
   ]
  },
  {
   "cell_type": "code",
   "execution_count": null,
   "metadata": {},
   "outputs": [],
   "source": [
    "Rational(2, 5) + Rational(1, 10)"
   ]
  },
  {
   "cell_type": "code",
   "execution_count": null,
   "metadata": {},
   "outputs": [],
   "source": [
    "Rational(1, 4) * Rational(2, 3)"
   ]
  },
  {
   "cell_type": "markdown",
   "metadata": {},
   "source": [
    "However, we cannot yet add a rational number to a complex number, although in mathematics such a combination is well-defined. We would like to introduce this cross-type operation in some carefully controlled way, so that we can support it without seriously violating our abstraction barriers. There is a tension between the outcomes we desire: we would like to be able to add a complex number to a rational number, and we would like to do so using a generic` __add__` method that does the right thing with all numeric types. At the same time, we would like to separate the concerns of complex numbers and rational numbers whenever possible, in order to maintain a modular program.\n",
    "\n",
    "**Type dispatching.** One way to implement cross-type operations is to select behavior based on the types of the arguments to a function or method. The idea of type dispatching is to write functions that inspect the type of arguments they receive, then execute code that is appropriate for those types.\n",
    "\n",
    "The built-in function `isinstance` takes an object and a class. It returns true if the object has a class that either is or inherits from the given class.\n"
   ]
  },
  {
   "cell_type": "code",
   "execution_count": null,
   "metadata": {},
   "outputs": [],
   "source": [
    "c = ComplexRI(1, 1)"
   ]
  },
  {
   "cell_type": "code",
   "execution_count": null,
   "metadata": {},
   "outputs": [],
   "source": [
    "isinstance(c, ComplexRI)"
   ]
  },
  {
   "cell_type": "code",
   "execution_count": null,
   "metadata": {},
   "outputs": [],
   "source": [
    "isinstance(c, Complex)"
   ]
  },
  {
   "cell_type": "code",
   "execution_count": null,
   "metadata": {},
   "outputs": [],
   "source": [
    "isinstance(c, ComplexMA)"
   ]
  },
  {
   "cell_type": "markdown",
   "metadata": {},
   "source": [
    "A simple example of type dispatching is an `is_real` function that uses a different implementation for each type of complex number.\n"
   ]
  },
  {
   "cell_type": "code",
   "execution_count": null,
   "metadata": {},
   "outputs": [],
   "source": [
    "def is_real(c):\n",
    "    \"\"\"Return whether c is a real number with no imaginary part.\"\"\"\n",
    "    if isinstance(c, ComplexRI):\n",
    "        return c.imag == 0\n",
    "    elif isinstance(c, ComplexMA):\n",
    "        return c.angle % pi == 0"
   ]
  },
  {
   "cell_type": "code",
   "execution_count": null,
   "metadata": {},
   "outputs": [],
   "source": [
    "is_real(ComplexRI(1, 1))"
   ]
  },
  {
   "cell_type": "code",
   "execution_count": null,
   "metadata": {},
   "outputs": [],
   "source": [
    "is_real(ComplexMA(2, pi))"
   ]
  },
  {
   "cell_type": "markdown",
   "metadata": {},
   "source": [
    "Type dispatching is not always performed using `isinstance`. For arithmetic, we will give a `type_tag` attribute to Rational and Complex instances that has a string value. When two values `x` and `y` have the same `type_tag`, then we can combine them directly with `x.add(y)`. If not, we need a cross-type operation."
   ]
  },
  {
   "cell_type": "code",
   "execution_count": null,
   "metadata": {},
   "outputs": [],
   "source": [
    "Rational(2, 5).type_tag == Rational(1, 2).type_tag"
   ]
  },
  {
   "cell_type": "code",
   "execution_count": null,
   "metadata": {},
   "outputs": [],
   "source": [
    "ComplexRI(1, 1).type_tag == ComplexMA(2, pi/2).type_tag"
   ]
  },
  {
   "cell_type": "code",
   "execution_count": null,
   "metadata": {},
   "outputs": [],
   "source": [
    "Rational(2, 5).type_tag == ComplexRI(1, 1).type_tag"
   ]
  },
  {
   "cell_type": "markdown",
   "metadata": {},
   "source": [
    "To combine complex and rational numbers, we write functions that rely on both of their representations simultaneously. Below, we rely on the fact that a Rational can be converted approximately to a float value that is a real number. The result can be combined with a complex number.\n",
    "\n",
    "Multiplication involves a similar conversion. In polar form, a real number in the complex plane always has a positive magnitude. The angle 0 indicates a positive number. The angle pi indicates a negative number.\n",
    "\n",
    "Both addition and multiplication are commutative, so swapping the argument order can use the same implementations of these cross-type operations."
   ]
  },
  {
   "cell_type": "code",
   "execution_count": null,
   "metadata": {},
   "outputs": [],
   "source": [
    "def add_complex_and_rational(c, r):\n",
    "    return ComplexRI(c.real + r.numer / r.denom, c.imag)\n",
    "\n",
    "\n",
    "def mul_complex_and_rational(c, r):\n",
    "    r_magnitude, r_angle = r.numer / r.denom, 0\n",
    "    if r_magnitude < 0:\n",
    "        r_magnitude, r_angle = -r_magnitude, pi\n",
    "    return ComplexMA(c.magnitude * r_magnitude, c.angle + r_angle)\n",
    "\n",
    "\n",
    "def add_rational_and_complex(r, c):\n",
    "    return add_complex_and_rational(c, r)\n",
    "\n",
    "\n",
    "def mul_rational_and_complex(r, c):\n",
    "    return mul_complex_and_rational(c, r)"
   ]
  },
  {
   "cell_type": "markdown",
   "metadata": {},
   "source": [
    "The role of type dispatching is to ensure that these cross-type operations are used at appropriate times. Below, we rewrite the Number superclass to use type dispatching for its `__add__` and `__mul__` methods.\n",
    "\n",
    "We use the `type_tag` attribute to distinguish types of arguments. One could directly use the built-in isinstance method as well, but tags simplify the implementation. Using type tags also illustrates that type dispatching is not necessarily linked to the Python object system, but instead a general technique for creating generic functions over heterogeneous domains.\n",
    "\n",
    "The `__add__ `method considers two cases. First, if two arguments have the same type tag, then it assumes that add method of the first can take the second as an argument. Otherwise, it checks whether a dictionary of cross-type implementations, called adders, contains a function that can add arguments of those type tags. If there is such a function, the cross_apply method finds and applies it. The` __mul__` method has a similar structure."
   ]
  },
  {
   "cell_type": "code",
   "execution_count": null,
   "metadata": {},
   "outputs": [],
   "source": [
    "class Number:\n",
    "    def __add__(self, other):\n",
    "        if self.type_tag == other.type_tag:\n",
    "            return self.add(other)\n",
    "        elif (self.type_tag, other.type_tag) in self.adders:\n",
    "            return self.cross_apply(other, self.adders)\n",
    "\n",
    "    def __mul__(self, other):\n",
    "        if self.type_tag == other.type_tag:\n",
    "            return self.mul(other)\n",
    "        elif (self.type_tag, other.type_tag) in self.multipliers:\n",
    "            return self.cross_apply(other, self.multipliers)\n",
    "\n",
    "    def cross_apply(self, other, cross_fns):\n",
    "        cross_fn = cross_fns[(self.type_tag, other.type_tag)]\n",
    "        return cross_fn(self, other)\n",
    "\n",
    "    adders = {\n",
    "        (\"com\", \"rat\"): add_complex_and_rational,\n",
    "        (\"rat\", \"com\"): add_rational_and_complex,\n",
    "    }\n",
    "    multipliers = {\n",
    "        (\"com\", \"rat\"): mul_complex_and_rational,\n",
    "        (\"rat\", \"com\"): mul_rational_and_complex,\n",
    "    }\n",
    "\n",
    "\n",
    "class Complex(Number):\n",
    "    def __init__(self):\n",
    "        self.type_tag = \"com\"\n",
    "\n",
    "    def add(self, other):\n",
    "        return ComplexRI(self.real + other.real, self.imag + other.imag)\n",
    "\n",
    "    def mul(self, other):\n",
    "        magnitude = self.magnitude * other.magnitude\n",
    "        return ComplexMA(magnitude, self.angle + other.angle)\n",
    "\n",
    "\n",
    "class ComplexRI(Complex):\n",
    "    def __init__(self, real, imag):\n",
    "        super().__init__()\n",
    "        self.real = real\n",
    "        self.imag = imag\n",
    "\n",
    "    @property\n",
    "    def magnitude(self):\n",
    "        return (self.real**2 + self.imag**2) ** 0.5\n",
    "\n",
    "    @property\n",
    "    def angle(self):\n",
    "        return atan2(self.imag, self.real)\n",
    "\n",
    "    def __repr__(self):\n",
    "        return \"ComplexRI({0:g}, {1:g})\".format(self.real, self.imag)\n",
    "\n",
    "\n",
    "class ComplexMA(Complex):\n",
    "    def __init__(self, magnitude, angle):\n",
    "        super().__init__()\n",
    "        self.magnitude = magnitude\n",
    "        self.angle = angle\n",
    "\n",
    "    @property\n",
    "    def real(self):\n",
    "        return self.magnitude * cos(self.angle)\n",
    "\n",
    "    @property\n",
    "    def imag(self):\n",
    "        return self.magnitude * sin(self.angle)\n",
    "\n",
    "    def __repr__(self):\n",
    "        return \"ComplexMA({0:g}, {1:g} * pi)\".format(self.magnitude, self.angle / pi)\n",
    "\n",
    "\n",
    "class Rational(Number):\n",
    "    def __init__(self, numer, denom):\n",
    "        g = gcd(numer, denom)\n",
    "        self.numer = numer // g\n",
    "        self.denom = denom // g\n",
    "        self.type_tag = \"rat\"\n",
    "\n",
    "    def __repr__(self):\n",
    "        return \"Rational({0}, {1})\".format(self.numer, self.denom)\n",
    "\n",
    "    def add(self, other):\n",
    "        nx, dx = self.numer, self.denom\n",
    "        ny, dy = other.numer, other.denom\n",
    "        return Rational(nx * dy + ny * dx, dx * dy)\n",
    "\n",
    "    def mul(self, other):\n",
    "        numer = self.numer * other.numer\n",
    "        denom = self.denom * other.denom\n",
    "        return Rational(numer, denom)"
   ]
  },
  {
   "cell_type": "markdown",
   "metadata": {},
   "source": [
    "In this new definition of the `Number` class, all cross-type implementations are indexed by pairs of type tags in the adders and multipliers dictionaries.\n",
    "\n",
    "This dictionary-based approach to type dispatching is extensible. New subclasses of Number could install themselves into the system by declaring a type tag and adding cross-type operations to `Number.adders` and `Number.multipliers`. They could also define their own adders and multipliers in a subclass.\n",
    "\n",
    "While we have introduced some complexity to the system, we can now mix types in addition and multiplication expressions."
   ]
  },
  {
   "cell_type": "code",
   "execution_count": null,
   "metadata": {},
   "outputs": [],
   "source": [
    "ComplexRI(1.5, 0) + Rational(3, 2)"
   ]
  },
  {
   "cell_type": "code",
   "execution_count": null,
   "metadata": {},
   "outputs": [],
   "source": [
    "Rational(-1, 2) * ComplexMA(4, pi/2)"
   ]
  },
  {
   "cell_type": "markdown",
   "metadata": {},
   "source": [
    "**Coercion.** In the general situation of completely unrelated operations acting on completely unrelated types, implementing explicit cross-type operations, cumbersome though it may be, is the best that one can hope for. Fortunately, we can sometimes do better by taking advantage of additional structure that may be latent in our type system. Often the different data types are not completely independent, and there may be ways by which objects of one type may be viewed as being of another type. This process is called coercion. For example, if we are asked to arithmetically combine a rational number with a complex number, we can view the rational number as a complex number whose imaginary part is zero. After doing so, we can use Complex.add and Complex.mul to combine them.\n",
    "\n",
    "In general, we can implement this idea by designing coercion functions that transform an object of one type into an equivalent object of another type. Here is a typical coercion function, which transforms a rational number to a complex number with zero imaginary part:"
   ]
  },
  {
   "cell_type": "code",
   "execution_count": null,
   "metadata": {},
   "outputs": [],
   "source": [
    "def rational_to_complex(r):\n",
    "    return ComplexRI(r.numer/r.denom, 0)"
   ]
  },
  {
   "cell_type": "markdown",
   "metadata": {},
   "source": [
    "The alternative definition of the `Number` class performs cross-type operations by attempting to coerce both arguments to the same type. The coercions dictionary indexes all possible `coercions` by a pair of type tags, indicating that the corresponding value coerces a value of the first type to a value of the second type.\n",
    "\n",
    "It is not generally possible to coerce an arbitrary data object of each type into all other types. For example, there is no way to coerce an arbitrary complex number to a rational number, so there will be no such conversion implementation in the `coercions` dictionary.\n",
    "\n",
    "The coerce method returns two values with the same type tag. It inspects the type tags of its arguments, compares them to entries in the `coercions` dictionary, and converts one argument to the type of the other using `coerce_to`. Only one entry in coercions is necessary to complete our cross-type arithmetic system, replacing the four cross-type functions in the type-dispatching version of `Number`."
   ]
  },
  {
   "cell_type": "code",
   "execution_count": null,
   "metadata": {},
   "outputs": [],
   "source": [
    "class Number:\n",
    "        def __add__(self, other):\n",
    "            x, y = self.coerce(other)\n",
    "            return x.add(y)\n",
    "        def __mul__(self, other):\n",
    "            x, y = self.coerce(other)\n",
    "            return x.mul(y)\n",
    "        def coerce(self, other):\n",
    "            if self.type_tag == other.type_tag:\n",
    "                return self, other\n",
    "            elif (self.type_tag, other.type_tag) in self.coercions:\n",
    "                return (self.coerce_to(other.type_tag), other)\n",
    "            elif (other.type_tag, self.type_tag) in self.coercions:\n",
    "                return (self, other.coerce_to(self.type_tag))\n",
    "        def coerce_to(self, other_tag):\n",
    "            coercion_fn = self.coercions[(self.type_tag, other_tag)]\n",
    "            return coercion_fn(self)\n",
    "        coercions = {('rat', 'com'): rational_to_complex}\n",
    "\n",
    "class Complex(Number):\n",
    "    def __init__(self):\n",
    "        self.type_tag = \"com\"\n",
    "\n",
    "    def add(self, other):\n",
    "        return ComplexRI(self.real + other.real, self.imag + other.imag)\n",
    "\n",
    "    def mul(self, other):\n",
    "        magnitude = self.magnitude * other.magnitude\n",
    "        return ComplexMA(magnitude, self.angle + other.angle)\n",
    "\n",
    "\n",
    "class ComplexRI(Complex):\n",
    "    def __init__(self, real, imag):\n",
    "        super().__init__()\n",
    "        self.real = real\n",
    "        self.imag = imag\n",
    "\n",
    "    @property\n",
    "    def magnitude(self):\n",
    "        return (self.real**2 + self.imag**2) ** 0.5\n",
    "\n",
    "    @property\n",
    "    def angle(self):\n",
    "        return atan2(self.imag, self.real)\n",
    "\n",
    "    def __repr__(self):\n",
    "        return \"ComplexRI({0:g}, {1:g})\".format(self.real, self.imag)\n",
    "\n",
    "\n",
    "class ComplexMA(Complex):\n",
    "    def __init__(self, magnitude, angle):\n",
    "        super().__init__()\n",
    "        self.magnitude = magnitude\n",
    "        self.angle = angle\n",
    "\n",
    "    @property\n",
    "    def real(self):\n",
    "        return self.magnitude * cos(self.angle)\n",
    "\n",
    "    @property\n",
    "    def imag(self):\n",
    "        return self.magnitude * sin(self.angle)\n",
    "\n",
    "    def __repr__(self):\n",
    "        return \"ComplexMA({0:g}, {1:g} * pi)\".format(self.magnitude, self.angle / pi)\n",
    "\n",
    "\n",
    "class Rational(Number):\n",
    "    def __init__(self, numer, denom):\n",
    "        g = gcd(numer, denom)\n",
    "        self.numer = numer // g\n",
    "        self.denom = denom // g\n",
    "        self.type_tag = \"rat\"\n",
    "\n",
    "    def __repr__(self):\n",
    "        return \"Rational({0}, {1})\".format(self.numer, self.denom)\n",
    "\n",
    "    def add(self, other):\n",
    "        nx, dx = self.numer, self.denom\n",
    "        ny, dy = other.numer, other.denom\n",
    "        return Rational(nx * dy + ny * dx, dx * dy)\n",
    "\n",
    "    def mul(self, other):\n",
    "        numer = self.numer * other.numer\n",
    "        denom = self.denom * other.denom\n",
    "        return Rational(numer, denom)"
   ]
  },
  {
   "cell_type": "code",
   "execution_count": null,
   "metadata": {},
   "outputs": [],
   "source": [
    "ComplexRI(1.5, 0) + Rational(3, 2)"
   ]
  },
  {
   "cell_type": "markdown",
   "metadata": {},
   "source": [
    "This coercion scheme has some advantages over the method of defining explicit cross-type operations. Although we still need to write coercion functions to relate the types, we need to write only one function for each pair of types rather than a different function for each set of types and each generic operation. What we are counting on here is the fact that the appropriate transformation between types depends only on the types themselves, not on the particular operation to be applied.\n",
    "\n",
    "Further advantages come from extending coercion. Some more sophisticated coercion schemes do not just try to coerce one type into another, but instead may try to coerce two different types each into a third common type. Consider a rhombus and a rectangle: neither is a special case of the other, but both can be viewed as quadrilaterals. Another extension to coercion is iterative coercion, in which one data type is coerced into another via intermediate types. Consider that an integer can be converted into a real number by first converting it into a rational number, then converting that rational number into a real number. Chaining coercion in this way can reduce the total number of coercion functions that are required by a program.\n",
    "\n",
    "Despite its advantages, coercion does have potential drawbacks. For one, coercion functions can lose information when they are applied. In our example, rational numbers are exact representations, but become approximations when they are converted to complex numbers."
   ]
  }
 ],
 "metadata": {
  "kernelspec": {
   "display_name": "ai",
   "language": "python",
   "name": "python3"
  },
  "language_info": {
   "codemirror_mode": {
    "name": "ipython",
    "version": 3
   },
   "file_extension": ".py",
   "mimetype": "text/x-python",
   "name": "python",
   "nbconvert_exporter": "python",
   "pygments_lexer": "ipython3",
   "version": "3.9.16"
  },
  "orig_nbformat": 4
 },
 "nbformat": 4,
 "nbformat_minor": 2
}
