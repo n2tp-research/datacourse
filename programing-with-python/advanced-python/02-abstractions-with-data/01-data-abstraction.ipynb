{
 "cells": [
  {
   "cell_type": "markdown",
   "metadata": {},
   "source": [
    "# Data Abstraction\n",
    "\n",
    "As we consider the wide set of things in the world that we would like to represent in our programs, we find that most of them have compound structure. For example, a geographic position has latitude and longitude coordinates. To represent positions, we would like our programming language to have the capacity to couple together a latitude and longitude to form a pair, a compound data value that our programs can manipulate as a single conceptual unit, but which also has two parts that can be considered individually.\n",
    "\n",
    "The use of compound data enables us to increase the modularity of our programs. If we can manipulate geographic positions as whole values, then we can shield parts of our program that compute using positions from the details of how those positions are represented. The general technique of isolating the parts of a program that deal with how data are represented from the parts that deal with how data are manipulated is a powerful design methodology called data abstraction. Data abstraction makes programs much easier to design, maintain, and modify.\n",
    "\n",
    "Data abstraction is similar in character to functional abstraction. When we create a functional abstraction, the details of how a function is implemented can be suppressed, and the particular function itself can be replaced by any other function with the same overall behavior. In other words, we can make an abstraction that separates the way the function is used from the details of how the function is implemented. Analogously, data abstraction isolates how a compound data value is used from the details of how it is constructed.\n",
    "\n",
    "The basic idea of data abstraction is to structure programs so that they operate on abstract data. That is, our programs should use data in such a way as to make as few assumptions about the data as possible. At the same time, a concrete data representation is defined as an independent part of the program.\n",
    "\n",
    "These two parts of a program, the part that operates on abstract data and the part that defines a concrete representation, are connected by a small set of functions that implement abstract data in terms of the concrete representation. To illustrate this technique, we will consider how to design a set of functions for manipulating rational numbers."
   ]
  },
  {
   "cell_type": "markdown",
   "metadata": {},
   "source": [
    "## Example: Rational Numbers\n",
    "\n",
    "A rational number is a ratio of integers, and rational numbers constitute an important sub-class of real numbers. A rational number such as $1/3$ or $17/29$ is typically written as:\n",
    "\n",
    "`<numerator>/<denominator>`\n",
    "\n",
    "where both the `<numerator>` and `<denominator>` are placeholders for integer values. Both parts are needed to exactly characterize the value of the rational number. Actually dividing integers produces a float approximation, losing the exact precision of integers."
   ]
  },
  {
   "cell_type": "code",
   "execution_count": null,
   "metadata": {},
   "outputs": [],
   "source": [
    "1/3"
   ]
  },
  {
   "cell_type": "code",
   "execution_count": null,
   "metadata": {},
   "outputs": [],
   "source": [
    "1/3 == 0.333333333333333300000"
   ]
  },
  {
   "cell_type": "markdown",
   "metadata": {},
   "source": [
    "However, we can create an exact representation for rational numbers by combining together the numerator and denominator.\n",
    "\n",
    "We know from using functional abstractions that we can start programming productively before we have an implementation of some parts of our program. Let us begin by assuming that we already have a way of constructing a rational number from a numerator and a denominator. We also assume that, given a rational number, we have a way of selecting its numerator and its denominator component. Let us further assume that the constructor and selectors are available as the following three functions:\n",
    "\n",
    "- `rational(n, d)` returns the rational number with numerator n and denominator d.\n",
    "- `numer(x)` returns the numerator of the rational number x.\n",
    "- `denom(x)` returns the denominator of the rational number x.\n",
    "\n",
    "We are using here a powerful strategy for designing programs: *wishful thinking*. We haven't yet said how a rational number is represented, or how the functions numer, denom, and rational should be implemented. Even so, if we did define these three functions, we could then `add`, `multiply`, `print`, and test equality of rational numbers:"
   ]
  },
  {
   "cell_type": "code",
   "execution_count": null,
   "metadata": {},
   "outputs": [],
   "source": [
    "def rational(n, d):\n",
    "    return (n, d)\n",
    "\n",
    "\n",
    "def numer(x):\n",
    "    return x[0]\n",
    "\n",
    "\n",
    "def denom(x):\n",
    "    return x[1]\n",
    "\n",
    "\n",
    "def add_rational(x, y):\n",
    "    nx, dx = numer(x), denom(x)\n",
    "    ny, dy = numer(y), denom(y)\n",
    "    return rational(nx * dy + ny * dx, dx * dy)\n",
    "\n",
    "\n",
    "def mul_rational(x, y):\n",
    "    return rational(numer(x) * numer(y), denom(x) * denom(y))\n",
    "\n",
    "\n",
    "def print_rational(x):\n",
    "    print(numer(x), \"/\", denom(x))\n",
    "\n",
    "\n",
    "def rationals_are_equal(x, y):\n",
    "    return numer(x) * denom(y) == numer(y) * denom(x)"
   ]
  },
  {
   "cell_type": "code",
   "execution_count": null,
   "metadata": {},
   "outputs": [],
   "source": [
    "half = rational(1, 2)\n",
    "print_rational(half)"
   ]
  },
  {
   "cell_type": "code",
   "execution_count": null,
   "metadata": {},
   "outputs": [],
   "source": [
    "third = rational(1, 3)"
   ]
  },
  {
   "cell_type": "code",
   "execution_count": null,
   "metadata": {},
   "outputs": [],
   "source": [
    "print_rational(mul_rational(half, third))"
   ]
  },
  {
   "cell_type": "code",
   "execution_count": null,
   "metadata": {},
   "outputs": [],
   "source": [
    "print_rational(add_rational(third, third))"
   ]
  },
  {
   "cell_type": "markdown",
   "metadata": {},
   "source": [
    "As the example above shows, our rational number implementation does not reduce rational numbers to lowest terms. We can remedy this flaw by changing the implementation of `rational`. If we have a function for computing the greatest common denominator of two integers, we can use it to reduce the numerator and the denominator to lowest terms before constructing the pair. As with many useful tools, such a function already exists in the Python Library."
   ]
  },
  {
   "cell_type": "code",
   "execution_count": null,
   "metadata": {},
   "outputs": [],
   "source": [
    "from math import gcd\n",
    "\n",
    "\n",
    "def rational(n, d):\n",
    "    g = gcd(n, d)\n",
    "    return (n // g, d // g)"
   ]
  },
  {
   "cell_type": "code",
   "execution_count": null,
   "metadata": {},
   "outputs": [],
   "source": [
    "print_rational(add_rational(third, third))"
   ]
  },
  {
   "cell_type": "markdown",
   "metadata": {},
   "source": [
    "This improvement was accomplished by changing the constructor without changing any of the functions that implement the actual arithmetic operations."
   ]
  },
  {
   "cell_type": "markdown",
   "metadata": {},
   "source": [
    "## Abstraction Barriers\n",
    "\n",
    "Before continuing with more examples of compound data and data abstraction, let us consider some of the issues raised by the rational number example. We defined operations in terms of a constructor rational and selectors `numer` and `denom`. In general, the underlying idea of data abstraction is to identify a basic set of operations in terms of which all manipulations of values of some kind will be expressed, and then to use only those operations in manipulating the data. By restricting the use of operations in this way, it is much easier to change the representation of abstract data without changing the behavior of a program.\n",
    "\n",
    "For rational numbers, different parts of the program manipulate rational numbers using different operations, as described in this table\n",
    "\n",
    "<table>\n",
    "<tr>\n",
    "    <th>Parts of the program that...</th> \n",
    "    <th>Treat rationals as...</th>\n",
    "    <th>Using only...</th>\n",
    "</tr>\n",
    "\n",
    "<tr>\n",
    "    <td>Use rational numbers to perform computation</td>\n",
    "    <td>whole data values</td>\n",
    "    <td>add_rational, mul_rational, rationals_are_equal, print_rational</td>\n",
    "</tr>\n",
    "\n",
    "<tr>\n",
    "    <td>Create rationals or implement rational operations</td>\n",
    "    <td>numerators and denominators</td>\n",
    "    <td>rational, numer, denom</td>\n",
    "</tr>\n",
    "\n",
    "<tr>\n",
    "    <td>Implement selectors and constructor for rationals</td>\n",
    "    <td>two-element sets</td>\n",
    "    <td>set literals and element selection</td>\n",
    "</tr>\n",
    "</table>\n",
    "\n",
    "In each layer above, the functions in the final column enforce an abstraction barrier. These functions are called by a higher level and implemented using a lower level of abstraction.\n",
    "\n",
    "An abstraction barrier violation occurs whenever a part of the program that can use a higher level function instead uses a function in a lower level. For example, a function that computes the square of a rational number is best implemented in terms of `mul_rational`, which does not assume anything about the implementation of a rational number."
   ]
  },
  {
   "cell_type": "code",
   "execution_count": null,
   "metadata": {},
   "outputs": [],
   "source": [
    "def square_rational(x):\n",
    "    return mul_rational(x, x)"
   ]
  },
  {
   "cell_type": "markdown",
   "metadata": {},
   "source": [
    "Referring directly to numerators and denominators would violate one abstraction barrier.\n",
    "\n",
    "Assuming that rationals are represented as two-element sets would violate two abstraction barriers."
   ]
  },
  {
   "cell_type": "code",
   "execution_count": null,
   "metadata": {},
   "outputs": [],
   "source": [
    "def square_rational_violating_once(x):\n",
    "    return rational(numer(x) * numer(x), denom(x) * denom(x))\n",
    "\n",
    "def square_rational_violating_twice(x):\n",
    "        return (x[0] * x[0], x[1] * x[1])"
   ]
  },
  {
   "cell_type": "markdown",
   "metadata": {},
   "source": [
    "Abstraction barriers make programs easier to maintain and to modify. The fewer functions that depend on a particular representation, the fewer changes are required when one wants to change that representation. All of these implementations of square_rational have the correct behavior, but only the first is robust to future changes. The `square_rational` function would not require updating even if we altered the representation of rational numbers. By contrast, `square_rational_violating_once` would need to be changed whenever the selector or constructor signatures changed, and `square_rational_violating_twice` would require updating whenever the implementation of rational numbers changed."
   ]
  }
 ],
 "metadata": {
  "kernelspec": {
   "display_name": "ai",
   "language": "python",
   "name": "python3"
  },
  "language_info": {
   "codemirror_mode": {
    "name": "ipython",
    "version": 3
   },
   "file_extension": ".py",
   "mimetype": "text/x-python",
   "name": "python",
   "nbconvert_exporter": "python",
   "pygments_lexer": "ipython3",
   "version": "3.9.16"
  },
  "orig_nbformat": 4
 },
 "nbformat": 4,
 "nbformat_minor": 2
}
