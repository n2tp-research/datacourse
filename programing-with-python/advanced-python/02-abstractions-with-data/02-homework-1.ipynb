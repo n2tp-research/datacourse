{
 "cells": [
  {
   "cell_type": "markdown",
   "metadata": {},
   "source": [
    "# Cities\n",
    "\n",
    "Data abstraction is a powerful concept in computer science that allows programmers to treat code as objects --- for example, car objects, chair objects, people objects, etc. That way, programmers don't have to worry about **how** code is implemented --- they just have to know **what** it does.\n",
    "\n",
    "Data abstraction mimics how we think about the world. For example, when you want to drive a car, you don't need to know how the engine was built or what kind of material the tires are made of. You just have to know how to turn the wheel and press the gas pedal.\n",
    "\n",
    "An abstract data type consists of two types of functions:\n",
    "\n",
    "- Constructors: functions that build the abstract data type.\n",
    "- Selectors: functions that retrieve information from the data type.\n",
    "\n",
    "For example, say we have an abstract data type called `city`. This `city` object will hold the `city`'s name, and its latitude and longitude. To create a city object, you'd use a constructor like\n",
    "\n",
    "```python\n",
    "city = make_city(name, lat, lon)\n",
    "```\n",
    "\n",
    "To extract the information of a `city` object, you would use the selectors like\n",
    "\n",
    "```python\n",
    "get_name(city)\n",
    "get_lat(city)\n",
    "get_lon(city)\n",
    "```\n",
    "\n",
    "For example, here is how we would use the make_city constructor to create a city object to represent Berkeley and the selectors to access its information.\n",
    "\n",
    "```python\n",
    ">>> berkeley = make_city('Berkeley', 122, 37)\n",
    ">>> get_name(berkeley)\n",
    "'Berkeley'\n",
    ">>> get_lat(berkeley)\n",
    "122\n",
    ">>> get_lon(berkeley)\n",
    "37\n",
    "```\n",
    "\n",
    "Please import the code for the `city` constructor and selectors from the `hw1.py` file in the current folder.\n"
   ]
  },
  {
   "cell_type": "code",
   "execution_count": null,
   "metadata": {},
   "outputs": [],
   "source": [
    "\"*** YOUR CODE HERE ***\""
   ]
  },
  {
   "cell_type": "markdown",
   "metadata": {},
   "source": [
    "## Question 1: Distance\n",
    "\n",
    "We will now use those selectors to write distance, which computes the distance between two city objects. Recall that the distance between two coordinate pairs, `(x1, y1)` and `(x2, y2)` can be found by calculating the `sqrt` of `(x1 - x2)**2 + (y1 - y2)**2`. We have already imported `sqrt` for your convenience, so use that and the appropriate selectors to fill in the function."
   ]
  },
  {
   "cell_type": "code",
   "execution_count": null,
   "metadata": {},
   "outputs": [],
   "source": [
    "from math import sqrt\n",
    "def distance(city1, city2):\n",
    "    \"\"\"\n",
    "    >>> city1 = make_city('city1', 0, 1)\n",
    "    >>> city2 = make_city('city2', 0, 2)\n",
    "    >>> distance(city1, city2)\n",
    "    1.0\n",
    "    >>> city3 = make_city('city3', 6.5, 12)\n",
    "    >>> city4 = make_city('city4', 2.5, 15)\n",
    "    >>> distance(city3, city4)\n",
    "    5.0\n",
    "    \"\"\"\n",
    "    \"*** YOUR CODE HERE ***\""
   ]
  },
  {
   "cell_type": "markdown",
   "metadata": {},
   "source": [
    "## Question 2: Closer city\n",
    "\n",
    "Implement `closer_city`, a function that takes a `latitude`, `longitude`, and two cities, and returns the name of the city that is relatively closer to the provided latitude and longitude.\n",
    "\n",
    "You may only use selectors and constructors (introduced above) for this question. You may also use the distance function defined above. Remember, the point of data abstraction, as we've said, is that we do not need to know how an abstract data type is implemented, but rather just how we can interact with and use the data type."
   ]
  },
  {
   "cell_type": "code",
   "execution_count": null,
   "metadata": {},
   "outputs": [],
   "source": [
    "def closer_city(lat, lon, city1, city2):\n",
    "    \"\"\"\n",
    "    Returns the name of either city1 or city2, whichever is closest to\n",
    "    coordinate (lat, lon).\n",
    "\n",
    "    >>> berkeley = make_city('Berkeley', 37.87, 112.26)\n",
    "    >>> stanford = make_city('Stanford', 34.05, 118.25)\n",
    "    >>> closer_city(38.33, 121.44, berkeley, stanford)\n",
    "    'Stanford'\n",
    "    >>> bucharest = make_city('Bucharest', 44.43, 26.10)\n",
    "    >>> vienna = make_city('Vienna', 48.20, 16.37)\n",
    "    >>> closer_city(41.29, 174.78, bucharest, vienna)\n",
    "    'Bucharest'\n",
    "    \"\"\"\n",
    "    \"*** YOUR CODE HERE ***\""
   ]
  },
  {
   "cell_type": "markdown",
   "metadata": {},
   "source": [
    "Make sure that you are using abstraction barriers correctly!\n",
    "\n",
    "```python\n",
    ">>> change_abstraction(True)\n",
    ">>> city1 = make_city('city1', 0, 1)\n",
    ">>> city2 = make_city('city2', 0, 2)\n",
    ">>> distance(city1, city2)\n",
    "1.0\n",
    ">>> city3 = make_city('city3', 6.5, 12)\n",
    ">>> city4 = make_city('city4', 2.5, 15)\n",
    ">>> distance(city3, city4)\n",
    "5.0\n",
    ">>> berkeley = make_city('Berkeley', 37.87, 112.26)\n",
    ">>> stanford = make_city('Stanford', 34.05, 118.25)\n",
    ">>> closer_city(38.33, 121.44, berkeley, stanford)\n",
    "'Stanford'\n",
    ">>> bucharest = make_city('Bucharest', 44.43, 26.10)\n",
    ">>> vienna = make_city('Vienna', 48.20, 16.37)\n",
    ">>> closer_city(41.29, 174.78, bucharest, vienna)\n",
    "'Bucharest'\n",
    ">>> change_abstraction(False)\n",
    "```"
   ]
  },
  {
   "cell_type": "markdown",
   "metadata": {},
   "source": [
    "# Politician\n",
    "For this question, let's combine ADTs and dictionaries! Let's try to make an ADT that represents a politician. The politician ADT has a constructor `make_politician`. There are three selectors, `get_name`, `get_party`, and `get_age`. When implementing an ADT, you have the freedom to choose how you want to represent it. Some common data structures used to represent ADTs are lists and dictionaries. The city ADT was implemented using a list. Now, let's use dictionaries to implement our `politician` ADT. You must use a dictionary for this question, or else you will not pass the tests."
   ]
  },
  {
   "cell_type": "code",
   "execution_count": null,
   "metadata": {},
   "outputs": [],
   "source": [
    "def make_politician(name, party, age):\n",
    "    \"\"\"\n",
    "    >>> woodrow = make_politician('Woodrow Wilson', 'Democrat', 57)\n",
    "    >>> isinstance(woodrow, dict)\n",
    "    True\n",
    "    \"\"\"\n",
    "    # Make sure you use a dictionary in your implementation!\n",
    "    \"*** YOUR CODE HERE ***\"\n",
    "    \n",
    "\n",
    "def get_pol_name(politician):\n",
    "    \"\"\"\n",
    "    >>> woodrow = make_politician('Woodrow Wilson', 'Democrat', 57)\n",
    "    >>> get_pol_name(woodrow)\n",
    "    'Woodrow Wilson'\n",
    "    >>> lincoln = make_politician('Abraham Lincoln', 'Republican', 52)\n",
    "    >>> get_pol_name(lincoln)\n",
    "    'Abraham Lincoln'\n",
    "    \"\"\"\n",
    "    \"*** YOUR CODE HERE ***\"\n",
    "    \n",
    "\n",
    "def get_party(politician):\n",
    "    \"\"\"\n",
    "    >>> woodrow = make_politician('Woodrow Wilson', 'Democrat', 57)\n",
    "    >>> get_party(woodrow)\n",
    "    'Democrat'\n",
    "    >>> lincoln = make_politician('Abraham Lincoln', 'Republican', 52)\n",
    "    >>> get_party(lincoln)\n",
    "    'Republican'\n",
    "    \"\"\"\n",
    "    \"*** YOUR CODE HERE ***\"\n",
    "    \n",
    "\n",
    "def get_age(politician):\n",
    "    \"\"\"\n",
    "    >>> woodrow = make_politician('Woodrow Wilson', 'Democrat', 57)\n",
    "    >>> get_age(woodrow)\n",
    "    57\n",
    "    >>> lincoln = make_politician('Abraham Lincoln', 'Republican', 52)\n",
    "    >>> get_age(lincoln)\n",
    "    52\n",
    "    \"\"\"\n",
    "    \"*** YOUR CODE HERE ***\""
   ]
  },
  {
   "cell_type": "markdown",
   "metadata": {},
   "source": [
    "# Diner\n",
    "\n",
    "In this problem you will fill out three functions to complete the Group ADT and the Diner ADT. The goal is to organize how diners manage the groups that want to eat there and the tables where these groups sit.\n",
    "\n",
    "It is important to take the time to read through the docstrings and the doctests. Additionally, make sure to not violate abstraction barriers for other ADTs, i.e. when implementing functions for the Diner ADT, do not violate abstraction barriers for the Group ADT, and vice versa."
   ]
  },
  {
   "cell_type": "code",
   "execution_count": 2,
   "metadata": {},
   "outputs": [],
   "source": [
    "# Diner ADT\n",
    "def make_diner(name):\n",
    "    \"\"\" Diners are represented by their name and the number of free tables they have.\"\"\"\n",
    "    return [name, 0]\n",
    "\n",
    "def num_free_tables(diner):\n",
    "    return diner[1]\n",
    "\n",
    "def name_diner(diner):\n",
    "    return diner[0]\n",
    "# You will implement add_table and serve which are part of the Diner ADT\n",
    "# Group ADT\n",
    "def make_group(name):\n",
    "    \"\"\" Groups are represented by their name and their status.\"\"\"\n",
    "    return [name, 'waiting']\n",
    "\n",
    "def name_group(group):\n",
    "    return group[0]\n",
    "\n",
    "def status(group):\n",
    "    return group[1]\n",
    "\n",
    "def set_eating_status(group):\n",
    "    group[1] = 'eating'\n",
    "\n",
    "# You will implement finish_eating which is part of the Group ADT "
   ]
  },
  {
   "cell_type": "markdown",
   "metadata": {},
   "source": [
    "## Question 1: Add Table\n",
    "\n",
    "Implement add_table which increases the diner's number of free tables by 1. add_table is part of the Diner ADT."
   ]
  },
  {
   "cell_type": "code",
   "execution_count": 3,
   "metadata": {},
   "outputs": [],
   "source": [
    "def add_table(diner):\n",
    "    \"\"\"\n",
    "    >>> din = make_diner(\"Croads\")\n",
    "    >>> num_free_tables(din)\n",
    "    0\n",
    "    >>> add_table(din)\n",
    "    >>> add_table(din)\n",
    "    >>> num_free_tables(din)\n",
    "    2\n",
    "    \"\"\"\n",
    "    \"*** YOUR CODE HERE ***\""
   ]
  },
  {
   "cell_type": "markdown",
   "metadata": {},
   "source": [
    "## Question 2: Serve\n",
    "\n",
    "Implement serve so that the diner uses one of its free tables to seat the group. If there are no free tables, return the string 'no available table'. If there are free tables, the group's status should be updated to 'eating' and the diner should have one less free table. serve is part of the Diner ADT."
   ]
  },
  {
   "cell_type": "code",
   "execution_count": 4,
   "metadata": {},
   "outputs": [],
   "source": [
    "def serve(diner, group):\n",
    "    \"\"\"\n",
    "    >>> din = make_diner(\"Cafe 3\")\n",
    "    >>> add_table(din)\n",
    "    >>> g1 = make_group(\"Vandana's Group\")\n",
    "    >>> g2 = make_group(\"Shreya's Group\")\n",
    "    >>> serve(din, g1)\n",
    "    >>> status(g1)\n",
    "    'eating'\n",
    "    >>> num_free_tables(din)\n",
    "    0\n",
    "    >>> serve(din, g2)\n",
    "    'no available table'\n",
    "    >>> status(g2)\n",
    "    'waiting'\n",
    "    \"\"\"\n",
    "    \"*** YOUR CODE HERE ***\"\n",
    "\n"
   ]
  },
  {
   "cell_type": "markdown",
   "metadata": {},
   "source": [
    "## Question 3: Finish Eating\n",
    "\n",
    "Implement finish_eating which sets a group's status to 'finished' and frees the table they were using so that the diner has one more free table. If the group's status is already 'finished', this function should do nothing. finish_eating is part of the Group ADT."
   ]
  },
  {
   "cell_type": "code",
   "execution_count": 5,
   "metadata": {},
   "outputs": [],
   "source": [
    "def finish_eating(group, diner):\n",
    "    \"\"\"\n",
    "    >>> din = make_diner(\"Foothill\")\n",
    "    >>> add_table(din)\n",
    "    >>> g1 = make_group(\"Nick's Group\")\n",
    "    >>> serve(din, g1)\n",
    "    >>> num_free_tables(din)\n",
    "    0\n",
    "    >>> finish_eating(g1, din)\n",
    "    >>> num_free_tables(din)\n",
    "    1\n",
    "    >>> status(g1)\n",
    "    'finished'\n",
    "    >>> finish_eating(g1, din) # g1 has already finished eating so this should do nothing\n",
    "    >>> num_free_tables(din)\n",
    "    1\n",
    "    >>> status(g1)\n",
    "    'finished'\n",
    "    \"\"\"\n",
    "    \"*** YOUR CODE HERE ***\""
   ]
  },
  {
   "cell_type": "markdown",
   "metadata": {},
   "source": [
    "## Major League Baseball\n",
    "\n",
    "It's October, which means its baseball playoffs season! In this exercise, let's utilize dictionaries to see if we can model and learn more about some of our favorite players. In this problem, you will be implementing multiple functions.\n",
    "\n",
    "As you can see, the dictionaries mapping players to their team and statistics respectively have been created already. However, instead of accessing these values directly, we'll be implementing two functions to retrieve the appropriate values as a layer of abstraction."
   ]
  },
  {
   "cell_type": "code",
   "execution_count": 6,
   "metadata": {},
   "outputs": [],
   "source": [
    "full_roster = {\n",
    "    \"Manny Machado\" : \"Dodgers\",\n",
    "    \"Yasiel Puig\" : \"Dodgers\",\n",
    "    \"Aaron Judge\" : \"Yankees\",\n",
    "    \"Clayton Kershaw\" : \"Dodgers\",\n",
    "    \"Giancarlo Stanton\" : \"Yankees\"\n",
    "}\n",
    "\n",
    "full_stats = {\n",
    "    \"Manny Machado\": [\"SO\", \"1B\", \"3B\", \"SO\", \"HR\"],\n",
    "    \"Yasiel Puig\": [\"3B\", \"3B\", \"1B\", \"1B\", \"SO\"],\n",
    "    \"Aaron Judge\": [\"SO\", \"HR\", \"HR\", \"1B\", \"SO\"],\n",
    "    \"Clayton Kershaw\": [\"1B\", \"SO\", \"SO\", \"1B\", \"SO\"],\n",
    "    \"Giancarlo Stanton\": [\"HR\", \"SO\", \"3B\", \"SO\", \"2B\"],\n",
    "}\n",
    "\n",
    "def get_team(player):\n",
    "    \"\"\"Returns team that the provided player is a member of.\n",
    "\n",
    "    >>> get_team(\"Manny Machado\")\n",
    "    'Dodgers'\n",
    "    >>> get_team(\"Aaron Judge\")\n",
    "    'Yankees'\n",
    "    \"\"\"\n",
    "    \"*** YOUR CODE HERE ***\"\n",
    "    \n",
    "\n",
    "def get_stats(player):\n",
    "    \"\"\"Returns the statistics associated with the provided player.\n",
    "    >>> get_stats(\"Manny Machado\")\n",
    "    ['SO', '1B', '3B', 'SO', 'HR']\n",
    "    >>> get_stats('Aaron Judge')\n",
    "    ['SO', 'HR', 'HR', '1B', 'SO']\n",
    "    \"\"\"\n",
    "    \"*** YOUR CODE HERE ***\""
   ]
  },
  {
   "cell_type": "code",
   "execution_count": null,
   "metadata": {},
   "outputs": [],
   "source": []
  }
 ],
 "metadata": {
  "kernelspec": {
   "display_name": "ai",
   "language": "python",
   "name": "python3"
  },
  "language_info": {
   "codemirror_mode": {
    "name": "ipython",
    "version": 3
   },
   "file_extension": ".py",
   "mimetype": "text/x-python",
   "name": "python",
   "nbconvert_exporter": "python",
   "pygments_lexer": "ipython3",
   "version": "3.9.16"
  },
  "orig_nbformat": 4
 },
 "nbformat": 4,
 "nbformat_minor": 2
}
