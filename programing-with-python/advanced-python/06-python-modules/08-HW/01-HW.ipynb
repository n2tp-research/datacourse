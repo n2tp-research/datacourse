{
 "cells": [
  {
   "cell_type": "markdown",
   "metadata": {},
   "source": [
    "# Advanced Modules Exercise Puzzle\n",
    "\n",
    "It's time to test your new skills, this puzzle project will combine multiple skills sets, including unzipping files with Python, using os module to automatically search through lots of files.\n",
    "\n",
    "## Your Goal\n",
    "\n",
    "This is a puzzle, so we don't want to give you too much guidance and instead have you figure out things on your own.\n",
    "\n",
    "There is a .zip file called 'unzip_me_for_instructions.zip', unzip it, open the .txt file with Python, read the instructions and see if you can figure out what you need to do!\n",
    "\n",
    "\n",
    "#### Guide and Hints for Advanced Module Exercise 👇\n",
    "\n",
    "<details><summary>CLICK ME</summary>\n",
    "<p>\n",
    "\n",
    "Hopefully before reading this you’ve gone ahead and attempted to figure out this puzzle all on your own, but if you’ve gotten stuck, here are the steps you should take. If you are still stuck after reading this guide, please look at the solutions video or notebook.\n",
    "\n",
    "- Step 1: There is a .zip file called unzip_me_for_instructions.zip. Use the shutil library to unzip this file.\n",
    "- Step 2: After unzipping the file from step 1, open and read the “instructions.txt file”.\n",
    "- Step 3: After reading the instructions, you should realize you are looking for a phone number, so use regex to figure out a pattern that will find a phone number in a string.\n",
    "- Step 4: In order to apply this regex to multiple text files , create a function that takes in a file and your regex pattern, opens the file, searches for your pattern, and returns back any match.\n",
    "- Step 5: Use the os module to walk through all the folders and files and apply your function to each file.\n",
    "- Step 6: After running through the files, you should have gotten the phone number result 719-266-2837. Keep in mind, we put some random numbers not correctly formatted in some of the .txt files, to make sure your regex expression was looking for the correct formatting.\n",
    "\n",
    "</p>\n",
    "</details>\n",
    "\n",
    "\n"
   ]
  }
 ],
 "metadata": {
  "anaconda-cloud": {},
  "kernelspec": {
   "display_name": "Python 3",
   "language": "python",
   "name": "python3"
  },
  "language_info": {
   "codemirror_mode": {
    "name": "ipython",
    "version": 3
   },
   "file_extension": ".py",
   "mimetype": "text/x-python",
   "name": "python",
   "nbconvert_exporter": "python",
   "pygments_lexer": "ipython3",
   "version": "3.6.6"
  }
 },
 "nbformat": 4,
 "nbformat_minor": 2
}
